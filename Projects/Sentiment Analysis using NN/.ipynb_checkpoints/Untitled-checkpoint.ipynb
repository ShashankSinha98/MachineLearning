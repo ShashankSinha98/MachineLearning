{
 "cells": [
  {
   "cell_type": "code",
   "execution_count": 2,
   "metadata": {},
   "outputs": [],
   "source": [
    "from keras.datasets import imdb"
   ]
  },
  {
   "cell_type": "markdown",
   "metadata": {},
   "source": [
    "## Data Preparation"
   ]
  },
  {
   "cell_type": "code",
   "execution_count": 4,
   "metadata": {},
   "outputs": [],
   "source": [
    "((XT,YT),(Xt,Yt)) = imdb.load_data(num_words=10000)"
   ]
  },
  {
   "cell_type": "code",
   "execution_count": 27,
   "metadata": {},
   "outputs": [
    {
     "name": "stdout",
     "output_type": "stream",
     "text": [
      "Training Set 25000\n",
      "Test Set 25000\n"
     ]
    }
   ],
   "source": [
    "print(\"Training Set\",len(XT))\n",
    "print(\"Test Set\",len(Xt))"
   ]
  },
  {
   "cell_type": "code",
   "execution_count": 9,
   "metadata": {},
   "outputs": [
    {
     "name": "stdout",
     "output_type": "stream",
     "text": [
      "[1, 14, 22, 16, 43, 530, 973, 1622, 1385, 65, 458, 4468, 66, 3941, 4, 173, 36, 256, 5, 25, 100, 43, 838, 112, 50, 670, 2, 9, 35, 480, 284, 5, 150, 4, 172, 112, 167, 2, 336, 385, 39, 4, 172, 4536, 1111, 17, 546, 38, 13, 447, 4, 192, 50, 16, 6, 147, 2025, 19, 14, 22, 4, 1920, 4613, 469, 4, 22, 71, 87, 12, 16, 43, 530, 38, 76, 15, 13, 1247, 4, 22, 17, 515, 17, 12, 16, 626, 18, 2, 5, 62, 386, 12, 8, 316, 8, 106, 5, 4, 2223, 5244, 16, 480, 66, 3785, 33, 4, 130, 12, 16, 38, 619, 5, 25, 124, 51, 36, 135, 48, 25, 1415, 33, 6, 22, 12, 215, 28, 77, 52, 5, 14, 407, 16, 82, 2, 8, 4, 107, 117, 5952, 15, 256, 4, 2, 7, 3766, 5, 723, 36, 71, 43, 530, 476, 26, 400, 317, 46, 7, 4, 2, 1029, 13, 104, 88, 4, 381, 15, 297, 98, 32, 2071, 56, 26, 141, 6, 194, 7486, 18, 4, 226, 22, 21, 134, 476, 26, 480, 5, 144, 30, 5535, 18, 51, 36, 28, 224, 92, 25, 104, 4, 226, 65, 16, 38, 1334, 88, 12, 16, 283, 5, 16, 4472, 113, 103, 32, 15, 16, 5345, 19, 178, 32]\n"
     ]
    }
   ],
   "source": [
    "print(XT[0])"
   ]
  },
  {
   "cell_type": "code",
   "execution_count": 14,
   "metadata": {},
   "outputs": [],
   "source": [
    "word_index = imdb.get_word_index() # word : indx"
   ]
  },
  {
   "cell_type": "code",
   "execution_count": 86,
   "metadata": {},
   "outputs": [],
   "source": [
    "#print(word_index.items())"
   ]
  },
  {
   "cell_type": "code",
   "execution_count": 16,
   "metadata": {},
   "outputs": [],
   "source": [
    "# Creating indx:word dict\n",
    "indx_word_dict = { value:key for (key,value) in word_index.items()}"
   ]
  },
  {
   "cell_type": "code",
   "execution_count": 85,
   "metadata": {},
   "outputs": [
    {
     "name": "stdout",
     "output_type": "stream",
     "text": [
      "<class 'dict'>\n",
      "<class 'dict'>\n"
     ]
    }
   ],
   "source": [
    "print(type(word_index))\n",
    "print(type(indx_word_dict))\n",
    "#print(indx_word_dict)"
   ]
  },
  {
   "cell_type": "code",
   "execution_count": 21,
   "metadata": {},
   "outputs": [],
   "source": [
    "actual_review = \" \".join(indx_word_dict.get(idx-3,\"?\") for idx in XT[0])"
   ]
  },
  {
   "cell_type": "code",
   "execution_count": 22,
   "metadata": {},
   "outputs": [
    {
     "name": "stdout",
     "output_type": "stream",
     "text": [
      "? this film was just brilliant casting location scenery story direction everyone's really suited the part they played and you could just imagine being there robert ? is an amazing actor and now the same being director ? father came from the same scottish island as myself so i loved the fact there was a real connection with this film the witty remarks throughout the film were great it was just brilliant so much that i bought the film as soon as it was released for ? and would recommend it to everyone to watch and the fly fishing was amazing really cried at the end it was so sad and you know what they say if you cry at a film it must have been good and this definitely was also ? to the two little boy's that played the ? of norman and paul they were just brilliant children are often left out of the ? list i think because the stars that play them all grown up are such a big profile for the whole film but these children are amazing and should be praised for what they have done don't you think the whole story was so lovely because it was true and was someone's life after all that was shared with us all\n"
     ]
    }
   ],
   "source": [
    "print(actual_review)"
   ]
  },
  {
   "cell_type": "markdown",
   "metadata": {},
   "source": [
    "## Vectorize the data\n",
    "Vocab Size- 10,000 we will make sure every sentence is represented by a vector of len 10000 [0,0,1,1...0,1]"
   ]
  },
  {
   "cell_type": "code",
   "execution_count": 28,
   "metadata": {},
   "outputs": [],
   "source": [
    "import numpy as np"
   ]
  },
  {
   "cell_type": "code",
   "execution_count": 31,
   "metadata": {},
   "outputs": [],
   "source": [
    "def vectorize_sentences(sentences,dim=10000):\n",
    "    \n",
    "    outputs = np.zeros((len(sentences),dim))\n",
    "    \n",
    "    for i,idx in enumerate(sentences):\n",
    "        outputs[i,idx] = 1\n",
    "        \n",
    "    return outputs"
   ]
  },
  {
   "cell_type": "code",
   "execution_count": 32,
   "metadata": {},
   "outputs": [],
   "source": [
    "X_Train = vectorize_sentences(XT)\n",
    "X_Test = vectorize_sentences(Xt)"
   ]
  },
  {
   "cell_type": "code",
   "execution_count": 33,
   "metadata": {},
   "outputs": [
    {
     "name": "stdout",
     "output_type": "stream",
     "text": [
      "(25000, 10000)\n",
      "(25000, 10000)\n"
     ]
    }
   ],
   "source": [
    "print(X_Train.shape)\n",
    "print(X_Test.shape)"
   ]
  },
  {
   "cell_type": "code",
   "execution_count": 37,
   "metadata": {},
   "outputs": [],
   "source": [
    "Y_Train = np.array(YT).astype('float32')\n",
    "Y_Test = np.array(Yt).astype('float32')"
   ]
  },
  {
   "cell_type": "markdown",
   "metadata": {},
   "source": [
    "## Build a Network\n",
    "<ul>\n",
    "<li>Use Fully Connected/Dense Layers with RELU Activation</li>\n",
    "<li>2 hidden layers with 16 unit each</li>\n",
    "<li>1 Output layer with 1 unit (Sigmoid Activation)</li>\n",
    "</ul>"
   ]
  },
  {
   "cell_type": "code",
   "execution_count": 70,
   "metadata": {},
   "outputs": [],
   "source": [
    "from keras import models\n",
    "from keras.layers import Dense"
   ]
  },
  {
   "cell_type": "code",
   "execution_count": 71,
   "metadata": {},
   "outputs": [],
   "source": [
    "# Define the model\n",
    "model = models.Sequential()\n",
    "model.add(Dense(16,activation='relu',input_shape=(10000,)))\n",
    "model.add(Dense(16,activation='relu'))\n",
    "model.add(Dense(1,activation='sigmoid'))"
   ]
  },
  {
   "cell_type": "code",
   "execution_count": 72,
   "metadata": {},
   "outputs": [],
   "source": [
    "# Compile the Model\n",
    "model.compile(optimizer='rmsprop',loss='binary_crossentropy',metrics=['accuracy'])"
   ]
  },
  {
   "cell_type": "code",
   "execution_count": 73,
   "metadata": {},
   "outputs": [
    {
     "name": "stdout",
     "output_type": "stream",
     "text": [
      "Model: \"sequential_2\"\n",
      "_________________________________________________________________\n",
      "Layer (type)                 Output Shape              Param #   \n",
      "=================================================================\n",
      "dense_4 (Dense)              (None, 16)                160016    \n",
      "_________________________________________________________________\n",
      "dense_5 (Dense)              (None, 16)                272       \n",
      "_________________________________________________________________\n",
      "dense_6 (Dense)              (None, 1)                 17        \n",
      "=================================================================\n",
      "Total params: 160,305\n",
      "Trainable params: 160,305\n",
      "Non-trainable params: 0\n",
      "_________________________________________________________________\n"
     ]
    }
   ],
   "source": [
    "model.summary()"
   ]
  },
  {
   "cell_type": "markdown",
   "metadata": {},
   "source": [
    "## Training and Validation"
   ]
  },
  {
   "cell_type": "code",
   "execution_count": 74,
   "metadata": {},
   "outputs": [],
   "source": [
    "# 20000 ex in Training Set, 5000 ex in validation set\n",
    "X_val = X_Train[:5000]\n",
    "X_Train_New = X_Train[5000:]\n",
    "\n",
    "Y_val = Y_Train[:5000]\n",
    "Y_Train_New = Y_Train[5000:]"
   ]
  },
  {
   "cell_type": "code",
   "execution_count": 45,
   "metadata": {},
   "outputs": [
    {
     "name": "stdout",
     "output_type": "stream",
     "text": [
      "Train on 20000 samples, validate on 5000 samples\n",
      "Epoch 1/20\n",
      "20000/20000 [==============================] - 11s 551us/step - loss: 0.4914 - accuracy: 0.8070 - val_loss: 0.3955 - val_accuracy: 0.8324\n",
      "Epoch 2/20\n",
      "20000/20000 [==============================] - 5s 262us/step - loss: 0.2817 - accuracy: 0.9064 - val_loss: 0.3146 - val_accuracy: 0.8710\n",
      "Epoch 3/20\n",
      "20000/20000 [==============================] - 5s 259us/step - loss: 0.2127 - accuracy: 0.9287 - val_loss: 0.2702 - val_accuracy: 0.8912\n",
      "Epoch 4/20\n",
      "20000/20000 [==============================] - 5s 259us/step - loss: 0.1744 - accuracy: 0.9392 - val_loss: 0.2882 - val_accuracy: 0.8858\n",
      "Epoch 5/20\n",
      "20000/20000 [==============================] - 5s 270us/step - loss: 0.1472 - accuracy: 0.9486 - val_loss: 0.2806 - val_accuracy: 0.8938\n",
      "Epoch 6/20\n",
      "20000/20000 [==============================] - 5s 251us/step - loss: 0.1245 - accuracy: 0.9578 - val_loss: 0.3001 - val_accuracy: 0.8870\n",
      "Epoch 7/20\n",
      "20000/20000 [==============================] - 6s 279us/step - loss: 0.1080 - accuracy: 0.9639 - val_loss: 0.3123 - val_accuracy: 0.8928\n",
      "Epoch 8/20\n",
      "20000/20000 [==============================] - 5s 263us/step - loss: 0.0930 - accuracy: 0.9697 - val_loss: 0.3439 - val_accuracy: 0.8848\n",
      "Epoch 9/20\n",
      "20000/20000 [==============================] - 5s 265us/step - loss: 0.0799 - accuracy: 0.9754 - val_loss: 0.4269 - val_accuracy: 0.8694\n",
      "Epoch 10/20\n",
      "20000/20000 [==============================] - 5s 259us/step - loss: 0.0699 - accuracy: 0.9783 - val_loss: 0.3909 - val_accuracy: 0.8820\n",
      "Epoch 11/20\n",
      "20000/20000 [==============================] - 5s 263us/step - loss: 0.0612 - accuracy: 0.9825 - val_loss: 0.4790 - val_accuracy: 0.8670\n",
      "Epoch 12/20\n",
      "20000/20000 [==============================] - 5s 260us/step - loss: 0.0510 - accuracy: 0.9851 - val_loss: 0.4536 - val_accuracy: 0.8728\n",
      "Epoch 13/20\n",
      "20000/20000 [==============================] - 5s 258us/step - loss: 0.0451 - accuracy: 0.9880 - val_loss: 0.4786 - val_accuracy: 0.8754\n",
      "Epoch 14/20\n",
      "20000/20000 [==============================] - 5s 257us/step - loss: 0.0394 - accuracy: 0.9895 - val_loss: 0.5250 - val_accuracy: 0.8728\n",
      "Epoch 15/20\n",
      "20000/20000 [==============================] - 5s 254us/step - loss: 0.0300 - accuracy: 0.9930 - val_loss: 0.5491 - val_accuracy: 0.8682\n",
      "Epoch 16/20\n",
      "20000/20000 [==============================] - 5s 253us/step - loss: 0.0270 - accuracy: 0.9937 - val_loss: 0.5871 - val_accuracy: 0.8684\n",
      "Epoch 17/20\n",
      "20000/20000 [==============================] - 5s 255us/step - loss: 0.0250 - accuracy: 0.9939 - val_loss: 0.6114 - val_accuracy: 0.8672\n",
      "Epoch 18/20\n",
      "20000/20000 [==============================] - 5s 257us/step - loss: 0.0208 - accuracy: 0.9955 - val_loss: 0.6540 - val_accuracy: 0.8672\n",
      "Epoch 19/20\n",
      "20000/20000 [==============================] - 5s 258us/step - loss: 0.0151 - accuracy: 0.9976 - val_loss: 0.7005 - val_accuracy: 0.8672\n",
      "Epoch 20/20\n",
      "20000/20000 [==============================] - 5s 254us/step - loss: 0.0166 - accuracy: 0.9961 - val_loss: 0.7164 - val_accuracy: 0.8626\n"
     ]
    }
   ],
   "source": [
    "history = model.fit(X_Train_New,Y_Train_New,epochs=20,batch_size=512,validation_data=(X_val,Y_val))"
   ]
  },
  {
   "cell_type": "markdown",
   "metadata": {},
   "source": [
    "## Visualize Our Results"
   ]
  },
  {
   "cell_type": "code",
   "execution_count": 46,
   "metadata": {},
   "outputs": [],
   "source": [
    "import matplotlib.pyplot as plt"
   ]
  },
  {
   "cell_type": "code",
   "execution_count": 48,
   "metadata": {},
   "outputs": [],
   "source": [
    "h = history.history # dict containing list of loss, acc, validation loss, validation accuracy"
   ]
  },
  {
   "cell_type": "code",
   "execution_count": 51,
   "metadata": {},
   "outputs": [
    {
     "data": {
      "image/png": "[encoded data removed]",
      "text/plain": [
       "<Figure size 576x396 with 1 Axes>"
      ]
     },
     "metadata": {},
     "output_type": "display_data"
    }
   ],
   "source": [
    "plt.style.use('seaborn')\n",
    "plt.plot(h['val_loss'],label='Validation Loss')\n",
    "plt.plot(h['loss'],label='Training Loss')\n",
    "plt.xlabel('Epochs')\n",
    "plt.ylabel('Loss')\n",
    "plt.legend()\n",
    "plt.show()"
   ]
  },
  {
   "cell_type": "code",
   "execution_count": 54,
   "metadata": {},
   "outputs": [
    {
     "data": {
      "image/png": "[encoded data removed]",
      "text/plain": [
       "<Figure size 576x396 with 1 Axes>"
      ]
     },
     "metadata": {},
     "output_type": "display_data"
    }
   ],
   "source": [
    "plt.plot(h['val_accuracy'],label='Validation Acc')\n",
    "plt.plot(h['accuracy'],label='Training Acc')\n",
    "plt.xlabel('Epochs')\n",
    "plt.ylabel('Loss')\n",
    "plt.legend()\n",
    "plt.show()"
   ]
  },
  {
   "cell_type": "code",
   "execution_count": 75,
   "metadata": {},
   "outputs": [
    {
     "name": "stdout",
     "output_type": "stream",
     "text": [
      "Train on 20000 samples, validate on 5000 samples\n",
      "Epoch 1/4\n",
      "20000/20000 [==============================] - 14s 698us/step - loss: 0.5550 - accuracy: 0.7508 - val_loss: 0.4153 - val_accuracy: 0.8670\n",
      "Epoch 2/4\n",
      "20000/20000 [==============================] - 5s 258us/step - loss: 0.3234 - accuracy: 0.9016 - val_loss: 0.3651 - val_accuracy: 0.8530\n",
      "Epoch 3/4\n",
      "20000/20000 [==============================] - 5s 247us/step - loss: 0.2295 - accuracy: 0.9262 - val_loss: 0.3404 - val_accuracy: 0.8632\n",
      "Epoch 4/4\n",
      "20000/20000 [==============================] - 5s 247us/step - loss: 0.1826 - accuracy: 0.9402 - val_loss: 0.2762 - val_accuracy: 0.8900\n"
     ]
    }
   ],
   "source": [
    "# Val Acc inc till around 4 epochs, then decrease.. So we stop(train) at 4 Epoch only\n",
    "history2 = model.fit(X_Train_New,Y_Train_New,epochs=4,batch_size=512,validation_data=(X_val,Y_val))"
   ]
  },
  {
   "cell_type": "code",
   "execution_count": 79,
   "metadata": {},
   "outputs": [],
   "source": [
    "h2 = history2.history"
   ]
  },
  {
   "cell_type": "code",
   "execution_count": 80,
   "metadata": {},
   "outputs": [
    {
     "data": {
      "image/png": "[encoded data removed]",
      "text/plain": [
       "<Figure size 576x396 with 1 Axes>"
      ]
     },
     "metadata": {},
     "output_type": "display_data"
    }
   ],
   "source": [
    "plt.plot(h2['val_loss'],label='Validation Loss')\n",
    "plt.plot(h2['loss'],label='Training Loss')\n",
    "plt.xlabel('Epochs')\n",
    "plt.ylabel('Loss')\n",
    "plt.legend()\n",
    "plt.show()"
   ]
  },
  {
   "cell_type": "code",
   "execution_count": 81,
   "metadata": {},
   "outputs": [
    {
     "data": {
      "image/png": "[encoded data removed]",
      "text/plain": [
       "<Figure size 576x396 with 1 Axes>"
      ]
     },
     "metadata": {},
     "output_type": "display_data"
    }
   ],
   "source": [
    "plt.plot(h2['val_accuracy'],label='Validation Acc')\n",
    "plt.plot(h2['accuracy'],label='Training Acc')\n",
    "plt.xlabel('Epochs')\n",
    "plt.ylabel('Loss')\n",
    "plt.legend()\n",
    "plt.show()"
   ]
  },
  {
   "cell_type": "code",
   "execution_count": 82,
   "metadata": {},
   "outputs": [
    {
     "name": "stdout",
     "output_type": "stream",
     "text": [
      "25000/25000 [==============================] - 6s 250us/step\n"
     ]
    },
    {
     "data": {
      "text/plain": [
       "0.8838000297546387"
      ]
     },
     "execution_count": 82,
     "metadata": {},
     "output_type": "execute_result"
    }
   ],
   "source": [
    "model.evaluate(X_Test,Y_Test)[1] # Test Set Acc"
   ]
  },
  {
   "cell_type": "code",
   "execution_count": 83,
   "metadata": {},
   "outputs": [
    {
     "name": "stdout",
     "output_type": "stream",
     "text": [
      "25000/25000 [==============================] - 6s 239us/step\n"
     ]
    },
    {
     "data": {
      "text/plain": [
       "0.9437999725341797"
      ]
     },
     "execution_count": 83,
     "metadata": {},
     "output_type": "execute_result"
    }
   ],
   "source": [
    "model.evaluate(X_Train,Y_Train)[1] # Train Set Acc"
   ]
  },
  {
   "cell_type": "code",
   "execution_count": 87,
   "metadata": {},
   "outputs": [
    {
     "data": {
      "text/plain": [
       "array([[0.28385603],\n",
       "       [0.9999605 ],\n",
       "       [0.8379575 ],\n",
       "       ...,\n",
       "       [0.15922514],\n",
       "       [0.13209721],\n",
       "       [0.60513496]], dtype=float32)"
      ]
     },
     "execution_count": 87,
     "metadata": {},
     "output_type": "execute_result"
    }
   ],
   "source": [
    "model.predict(X_Test)"
   ]
  },
  {
   "cell_type": "code",
   "execution_count": null,
   "metadata": {},
   "outputs": [],
   "source": []
  },
  {
   "cell_type": "code",
   "execution_count": null,
   "metadata": {},
   "outputs": [],
   "source": []
  },
  {
   "cell_type": "code",
   "execution_count": null,
   "metadata": {},
   "outputs": [],
   "source": []
  }
 ],
 "metadata": {
  "kernelspec": {
   "display_name": "Python 3",
   "language": "python",
   "name": "python3"
  },
  "language_info": {
   "codemirror_mode": {
    "name": "ipython",
    "version": 3
   },
   "file_extension": ".py",
   "mimetype": "text/x-python",
   "name": "python",
   "nbconvert_exporter": "python",
   "pygments_lexer": "ipython3",
   "version": "3.8.1"
  }
 },
 "nbformat": 4,
 "nbformat_minor": 4
}
