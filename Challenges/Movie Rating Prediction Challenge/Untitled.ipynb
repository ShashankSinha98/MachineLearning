{
 "cells": [
  {
   "cell_type": "markdown",
   "metadata": {},
   "source": [
    "### NLTK Pipeline\n",
    "#### Create a NLTK Pipeline to 'clean' review data\n",
    "\n",
    "<ul><li>Load Input File and Read Reviews</li>\n",
    "<li>Tokenize</li>\n",
    "<li>Remove Stopwords</li>\n",
    "<li>Perform Stemming</li>\n",
    "<li>Write cleaned data to Output File</li></ul>"
   ]
  },
  {
   "cell_type": "code",
   "execution_count": 1,
   "metadata": {},
   "outputs": [],
   "source": [
    "sample_text=\"\"\"I loved      this movie since I was 7 and I saw it on the opening day. It was so touching and beautiful. I strongly recommend seeing for all. It's a movie to watch with your family by far.<br /><br />My MPAA rating: PG-13 for thematic elements, prolonged scenes of disastor, nudity/sexuality and some language.\"\"\""
   ]
  },
  {
   "cell_type": "code",
   "execution_count": 2,
   "metadata": {},
   "outputs": [],
   "source": [
    "from nltk.tokenize import RegexpTokenizer\n",
    "from nltk.stem.porter import PorterStemmer\n",
    "from nltk.corpus import stopwords\n",
    "import pandas as pd\n",
    "import sys\n",
    "import os"
   ]
  },
  {
   "cell_type": "code",
   "execution_count": 3,
   "metadata": {},
   "outputs": [],
   "source": [
    "# Init Objects\n",
    "tokenizer = RegexpTokenizer('[a-zA-Z]+')\n",
    "en_stopwords = set(stopwords.words('english'))\n",
    "ps = PorterStemmer()"
   ]
  },
  {
   "cell_type": "code",
   "execution_count": 4,
   "metadata": {},
   "outputs": [],
   "source": [
    "def getCleanReview(review):\n",
    "    \n",
    "    review = review.lower()\n",
    "    review = review.replace(\"<br /><br />\",\" \")\n",
    "    \n",
    "    # Tokenize\n",
    "    tokens = tokenizer.tokenize(review)\n",
    "    new_tokens = [token for token in tokens if token not in en_stopwords]\n",
    "    stemmed_tokens = [ps.stem(token) for token in new_tokens]\n",
    "    \n",
    "    cleaned_review = ' '.join(stemmed_tokens)\n",
    "    \n",
    "    return cleaned_review"
   ]
  },
  {
   "cell_type": "code",
   "execution_count": 5,
   "metadata": {},
   "outputs": [
    {
     "name": "stdout",
     "output_type": "stream",
     "text": [
      "love movi sinc saw open day touch beauti strongli recommend see movi watch famili far mpaa rate pg themat element prolong scene disastor nuditi sexual languag\n"
     ]
    }
   ],
   "source": [
    "print(getCleanReview(sample_text))"
   ]
  },
  {
   "cell_type": "code",
   "execution_count": 25,
   "metadata": {},
   "outputs": [],
   "source": [
    "def getStemmedDocument(inputFile,outputFile):\n",
    "    \n",
    "    out = open(outputFile,'w',encoding='utf8')\n",
    "    \n",
    "    with open(inputFile,encoding='utf8') as f:\n",
    "        reviews = f.readlines()\n",
    "        \n",
    "    for review in reviews:\n",
    "        cleaned_review = getCleanReview(review)\n",
    "        print((cleaned_review),file=out)\n",
    "        \n",
    "    out.close()"
   ]
  },
  {
   "cell_type": "code",
   "execution_count": 39,
   "metadata": {},
   "outputs": [],
   "source": [
    "#inputFile = sys.argv[1]\n",
    "#outputFile = sys.argv[2]\n",
    "#getStemmedDocument(inputFile,outputFile)\n",
    "#print(os.listdir())\n",
    "getStemmedDocument(\"unclean.txt\",\"clean.txt\")\n"
   ]
  },
  {
   "cell_type": "code",
   "execution_count": null,
   "metadata": {},
   "outputs": [],
   "source": []
  }
 ],
 "metadata": {
  "kernelspec": {
   "display_name": "Python 3",
   "language": "python",
   "name": "python3"
  },
  "language_info": {
   "codemirror_mode": {
    "name": "ipython",
    "version": 3
   },
   "file_extension": ".py",
   "mimetype": "text/x-python",
   "name": "python",
   "nbconvert_exporter": "python",
   "pygments_lexer": "ipython3",
   "version": "3.8.1"
  }
 },
 "nbformat": 4,
 "nbformat_minor": 4
}
