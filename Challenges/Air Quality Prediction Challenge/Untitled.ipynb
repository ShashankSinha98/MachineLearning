{
 "cells": [
  {
   "cell_type": "code",
   "execution_count": 54,
   "metadata": {},
   "outputs": [],
   "source": [
    "from sklearn.datasets import load_boston\n",
    "import pandas as pd\n",
    "import numpy as np\n",
    "import matplotlib.pyplot as plt\n",
    "import time"
   ]
  },
  {
   "cell_type": "code",
   "execution_count": 55,
   "metadata": {},
   "outputs": [
    {
     "name": "stdout",
     "output_type": "stream",
     "text": [
      "(1600, 6)\n",
      "(400, 5)\n",
      "Index(['feature_1', 'feature_2', 'feature_3', 'feature_4', 'feature_5',\n",
      "       'target'],\n",
      "      dtype='object')\n",
      "Index(['feature_1', 'feature_2', 'feature_3', 'feature_4', 'feature_5'], dtype='object')\n"
     ]
    },
    {
     "data": {
      "text/html": [
       "<div>\n",
       "<style scoped>\n",
       "    .dataframe tbody tr th:only-of-type {\n",
       "        vertical-align: middle;\n",
       "    }\n",
       "\n",
       "    .dataframe tbody tr th {\n",
       "        vertical-align: top;\n",
       "    }\n",
       "\n",
       "    .dataframe thead th {\n",
       "        text-align: right;\n",
       "    }\n",
       "</style>\n",
       "<table border=\"1\" class=\"dataframe\">\n",
       "  <thead>\n",
       "    <tr style=\"text-align: right;\">\n",
       "      <th></th>\n",
       "      <th>feature_1</th>\n",
       "      <th>feature_2</th>\n",
       "      <th>feature_3</th>\n",
       "      <th>feature_4</th>\n",
       "      <th>feature_5</th>\n",
       "      <th>target</th>\n",
       "    </tr>\n",
       "  </thead>\n",
       "  <tbody>\n",
       "    <tr>\n",
       "      <th>0</th>\n",
       "      <td>0.293416</td>\n",
       "      <td>-0.945599</td>\n",
       "      <td>-0.421105</td>\n",
       "      <td>0.406816</td>\n",
       "      <td>0.525662</td>\n",
       "      <td>-82.154667</td>\n",
       "    </tr>\n",
       "    <tr>\n",
       "      <th>1</th>\n",
       "      <td>-0.836084</td>\n",
       "      <td>-0.189228</td>\n",
       "      <td>-0.776403</td>\n",
       "      <td>-1.053831</td>\n",
       "      <td>0.597997</td>\n",
       "      <td>-48.897960</td>\n",
       "    </tr>\n",
       "    <tr>\n",
       "      <th>2</th>\n",
       "      <td>0.236425</td>\n",
       "      <td>0.132836</td>\n",
       "      <td>-0.147723</td>\n",
       "      <td>0.699854</td>\n",
       "      <td>-0.187364</td>\n",
       "      <td>77.270371</td>\n",
       "    </tr>\n",
       "    <tr>\n",
       "      <th>3</th>\n",
       "      <td>0.175312</td>\n",
       "      <td>0.143194</td>\n",
       "      <td>-0.581111</td>\n",
       "      <td>-0.122107</td>\n",
       "      <td>-1.292168</td>\n",
       "      <td>-2.988581</td>\n",
       "    </tr>\n",
       "    <tr>\n",
       "      <th>4</th>\n",
       "      <td>-1.693011</td>\n",
       "      <td>0.542712</td>\n",
       "      <td>-2.798729</td>\n",
       "      <td>-0.686723</td>\n",
       "      <td>1.244077</td>\n",
       "      <td>-37.596722</td>\n",
       "    </tr>\n",
       "  </tbody>\n",
       "</table>\n",
       "</div>"
      ],
      "text/plain": [
       "   feature_1  feature_2  feature_3  feature_4  feature_5     target\n",
       "0   0.293416  -0.945599  -0.421105   0.406816   0.525662 -82.154667\n",
       "1  -0.836084  -0.189228  -0.776403  -1.053831   0.597997 -48.897960\n",
       "2   0.236425   0.132836  -0.147723   0.699854  -0.187364  77.270371\n",
       "3   0.175312   0.143194  -0.581111  -0.122107  -1.292168  -2.988581\n",
       "4  -1.693011   0.542712  -2.798729  -0.686723   1.244077 -37.596722"
      ]
     },
     "execution_count": 55,
     "metadata": {},
     "output_type": "execute_result"
    }
   ],
   "source": [
    "DF_Train = pd.read_csv('Train.csv')\n",
    "DF_Test = pd.read_csv('Test.csv')\n",
    "\n",
    "print(DF_Train.shape)\n",
    "print(DF_Test.shape)\n",
    "print(DF_Train.columns)\n",
    "print(DF_Test.columns)\n",
    "DF_Train.head(n=5)"
   ]
  },
  {
   "cell_type": "code",
   "execution_count": 56,
   "metadata": {},
   "outputs": [
    {
     "name": "stdout",
     "output_type": "stream",
     "text": [
      "(1600, 5)\n",
      "(1600,)\n",
      "(400, 5)\n",
      "[ -82.15466656  -48.89796018   77.2703707  ... -107.51050797  -47.34155781\n",
      " -115.93900296]\n"
     ]
    }
   ],
   "source": [
    "DF_Train = DF_Train.values\n",
    "DF_Test = DF_Test.values\n",
    "\n",
    "X_Train = DF_Train[:,:-1]\n",
    "Y_Train = DF_Train[:,-1]\n",
    "X_Test = DF_Test[:,:]\n",
    "\n",
    "print(X_Train.shape)\n",
    "print(Y_Train.shape)\n",
    "print(X_Test.shape)\n",
    "print(Y_Train)"
   ]
  },
  {
   "cell_type": "code",
   "execution_count": 57,
   "metadata": {},
   "outputs": [
    {
     "name": "stdout",
     "output_type": "stream",
     "text": [
      "[0.99702582 1.02145636 1.01145129 1.01687155 0.97834768]\n",
      "[[ 0.29016495 -0.89871183 -0.37238147  0.44177059  0.52502448]\n",
      " [-0.84270473 -0.15822922 -0.72365639 -0.99464217  0.59896038]\n",
      " [ 0.23300381  0.15706968 -0.10209444  0.72994655 -0.20378187]\n",
      " ...\n",
      " [ 1.0431652  -0.8532941   1.75476416 -1.79830858  0.44004223]\n",
      " [-1.27708547  0.02207793  1.88059294 -1.0207355   0.74035908]\n",
      " [-1.89374689 -0.80456069 -1.39187219  0.52221049  1.47960738]]\n"
     ]
    }
   ],
   "source": [
    "# Normalising Data\n",
    "u = np.mean(X_Train, axis = 0)\n",
    "std = np.std(X_Train, axis = 0)\n",
    "print(std)\n",
    "\n",
    "X_Train = (X_Train - u)/std\n",
    "print(X_Train)"
   ]
  },
  {
   "cell_type": "code",
   "execution_count": 58,
   "metadata": {},
   "outputs": [
    {
     "name": "stdout",
     "output_type": "stream",
     "text": [
      "[[ 1.          0.29016495 -0.89871183 -0.37238147  0.44177059  0.52502448]\n",
      " [ 1.         -0.84270473 -0.15822922 -0.72365639 -0.99464217  0.59896038]\n",
      " [ 1.          0.23300381  0.15706968 -0.10209444  0.72994655 -0.20378187]\n",
      " ...\n",
      " [ 1.          1.0431652  -0.8532941   1.75476416 -1.79830858  0.44004223]\n",
      " [ 1.         -1.27708547  0.02207793  1.88059294 -1.0207355   0.74035908]\n",
      " [ 1.         -1.89374689 -0.80456069 -1.39187219  0.52221049  1.47960738]]\n"
     ]
    }
   ],
   "source": [
    "### Linear Regression\n",
    "# theta - (13,)\n",
    "# X = (506,13)\n",
    "# m - 506, n-13\n",
    "# Hypothesis Fn - x is a vector, o/p- value\n",
    "ones = np.ones((X_Train.shape[0],1))\n",
    "X_Train = np.hstack((ones,X_Train))\n",
    "\n",
    "ones = np.ones((X_Test.shape[0],1))\n",
    "X_Test = np.hstack((ones,X_Test))\n",
    "print(X_Train)\n",
    "def hypothesis(X, theta):\n",
    "    return np.dot(X, theta)"
   ]
  },
  {
   "cell_type": "code",
   "execution_count": 59,
   "metadata": {},
   "outputs": [],
   "source": [
    "# Error Fn- o/p = value\n",
    "def error(X,y,theta):\n",
    "    e = 0.0\n",
    "    m = X.shape[0]\n",
    "    y_ = hypothesis(X,theta)\n",
    "    e = np.sum((y-y_)**2)    \n",
    "    return e/m"
   ]
  },
  {
   "cell_type": "code",
   "execution_count": 60,
   "metadata": {},
   "outputs": [],
   "source": [
    "# Gradient Fn- o/p = (n,)\n",
    "def gradient(X,y,theta):\n",
    "    y_ = hypothesis(X,theta)\n",
    "    grad = np.dot(X.T,(y_-y))\n",
    "    m = X.shape[0]  \n",
    "    return grad/m"
   ]
  },
  {
   "cell_type": "code",
   "execution_count": 77,
   "metadata": {},
   "outputs": [],
   "source": [
    "# Gradient Descent- o/p = (n,)\n",
    "def gradient_descent(X,y,learning_rate=0.1, max_epochs=300):\n",
    "    \n",
    "    n = X.shape[1]\n",
    "    theta = np.zeros((n,))\n",
    "    error_list = []\n",
    "    \n",
    "    for i in range(max_epochs):\n",
    "        e = error(X,y,theta)\n",
    "        error_list.append(e)\n",
    "        #print(i)\n",
    "        grad = gradient(X,y,theta)\n",
    "        theta = theta - learning_rate * grad\n",
    "    return theta, error_list"
   ]
  },
  {
   "cell_type": "code",
   "execution_count": 78,
   "metadata": {},
   "outputs": [
    {
     "name": "stdout",
     "output_type": "stream",
     "text": [
      "Time taken:  0.05884408950805664\n",
      "[ 0.31883538 29.59359198 94.65067706  8.37544469 45.52303635  2.46461552]\n",
      "[12256.130414032896, 10026.033684143073, 8217.055252817618, 6749.466627013954, 5558.673187089287, 4592.334067473993, 3808.0315657917154, 3171.3849608951386, 2654.5237799458373, 2234.85183834815, 1894.04653113265, 1617.2484830009762, 1392.4052530232816, 1209.739731393694, 1061.3194764678283, 940.7077762355079, 842.6808858642628, 762.9988586786474, 698.2197865343779, 645.5492057333448, 602.71799423682, 567.8833559297998, 539.5485154072414, 516.497578530278, 497.74268728982713, 482.48114259194176, 470.06060992121985, 459.9508802381248, 451.7209479296338, 445.0204021068504, 439.5643175010901, 435.12098512481214, 431.50194759201077, 428.5539050830669, 426.15213988278555, 424.1951738531029, 422.60042706729115, 421.3006895139444, 420.24125320690837, 419.37758077512547, 418.67340992065016, 418.0992120500356, 417.6309387353912, 417.2490021205568, 416.9374455012189, 416.68326851820393, 416.47587806958705, 416.30664146076737, 416.16852270834255, 416.0557864849475, 415.96375709353555, 415.8886222169001, 415.8272731038045, 415.7771744099245, 415.736258177231, 415.70283746416567, 415.6755359753521, 415.65323071970977, 415.6350052789468, 415.62011171830306, 415.60793953738414, 415.5979903566829, 415.5898572776599, 415.5832080514249, 415.5777713515323, 415.5733255770358, 415.56968971829224, 415.56671590459604, 415.5642833232386, 415.56229325701526, 415.5606650339798, 415.55933272135326, 415.5582424265418, 415.55735009351656, 415.5566197034253, 415.5560218051132, 415.555532314924, 415.5551315363223, 415.55480335898517, 415.55453460443124, 415.5543144913185, 415.55413419847406, 415.55398650775345, 415.55386551211285, 415.55376637696014, 415.55368514503823, 415.55361857688376, 415.55356402036006, 415.55351930395364, 415.55348264949816, 415.5534526007786, 415.5534279651227, 415.55340776560973, 415.553391201965, 415.5533776185551, 415.5533664781947, 415.55335734070616, 415.5533498453675, 415.5533436965424, 415.55333865191494, 415.5533345128543, 415.5533311165242, 415.55332832942133, 415.55332604208127, 415.5533241647418, 415.55332262379056, 415.5533213588549, 415.5533203204151, 415.5533194678509, 415.5533187678391, 415.55331819304047, 415.55331772102295, 415.5533173333801, 415.55331701500677, 415.55331675350635, 415.5533165387044, 415.5533163622492, 415.55331621728493, 415.55331609818387, 415.55331600032497, 415.55331591991444, 415.55331585383675, 415.55331579953366, 415.55331575490425, 415.55331571822285, 415.55331568807213, 415.5533156632878, 415.5533156429137, 415.55331562616374, 415.5533156123926, 415.5533156010699, 415.55331559175977, 415.553315584104, 415.55331557780823, 415.55331557263065, 415.5533155683725, 415.55331556487016, 415.5533155619894, 415.5533155596197, 415.55331555767043, 415.5533155560668, 415.55331555474754, 415.5533155536621, 415.553315552769, 415.5533155520342, 415.5533155514294, 415.55331555093187, 415.55331555052237, 415.55331555018535, 415.55331554990806, 415.55331554967984, 415.55331554949197, 415.5533155493373, 415.55331554920997, 415.55331554910515, 415.55331554901886, 415.55331554894786, 415.5533155488894, 415.5533155488412, 415.5533155488016, 415.55331554876886, 415.5533155487421, 415.5533155487199, 415.5533155487017, 415.55331554868667, 415.5533155486744, 415.5533155486643, 415.5533155486558, 415.5533155486488, 415.5533155486431, 415.55331554863847, 415.55331554863454, 415.55331554863153, 415.5533155486289, 415.5533155486267, 415.55331554862494, 415.55331554862346, 415.5533155486222, 415.55331554862124, 415.55331554862045, 415.5533155486197, 415.5533155486192, 415.5533155486187, 415.5533155486184, 415.55331554861806, 415.55331554861783, 415.55331554861755, 415.5533155486175, 415.55331554861726, 415.55331554861715, 415.5533155486171, 415.553315548617, 415.5533155486168, 415.5533155486168, 415.5533155486168, 415.5533155486168, 415.55331554861664, 415.55331554861675, 415.55331554861675, 415.55331554861664, 415.55331554861664, 415.5533155486166, 415.55331554861664, 415.5533155486166, 415.55331554861664, 415.55331554861664, 415.55331554861664, 415.55331554861664, 415.5533155486166, 415.55331554861664, 415.5533155486166, 415.5533155486166, 415.55331554861664, 415.5533155486165, 415.55331554861664, 415.5533155486166, 415.55331554861664, 415.5533155486166, 415.55331554861664, 415.5533155486165, 415.5533155486166, 415.5533155486166, 415.5533155486165, 415.5533155486166, 415.5533155486165, 415.5533155486166, 415.5533155486166, 415.5533155486165, 415.5533155486166, 415.5533155486166, 415.5533155486166, 415.5533155486166, 415.55331554861664, 415.5533155486166, 415.55331554861664, 415.5533155486165, 415.5533155486165, 415.5533155486166, 415.5533155486166, 415.5533155486166, 415.5533155486166, 415.5533155486166, 415.5533155486166, 415.5533155486165, 415.5533155486165, 415.55331554861664, 415.55331554861664, 415.5533155486166, 415.55331554861664, 415.5533155486166, 415.5533155486165, 415.55331554861664, 415.55331554861664, 415.5533155486166, 415.5533155486166, 415.5533155486166, 415.5533155486166, 415.5533155486165, 415.5533155486165, 415.5533155486166, 415.55331554861664, 415.5533155486165, 415.5533155486166, 415.5533155486166, 415.5533155486166, 415.5533155486166, 415.5533155486166, 415.5533155486165, 415.5533155486166, 415.5533155486165, 415.5533155486166, 415.5533155486166, 415.5533155486166, 415.5533155486166, 415.5533155486166, 415.5533155486166, 415.5533155486166, 415.5533155486165, 415.5533155486165, 415.5533155486165, 415.5533155486166, 415.5533155486166, 415.55331554861664, 415.5533155486166, 415.5533155486166, 415.55331554861664, 415.5533155486166, 415.55331554861664, 415.5533155486166, 415.5533155486166, 415.5533155486166, 415.5533155486166, 415.5533155486166, 415.5533155486166, 415.5533155486166, 415.5533155486166, 415.5533155486166, 415.5533155486166, 415.5533155486166, 415.5533155486166]\n"
     ]
    },
    {
     "data": {
      "image/png": "[encoded data removed]",
      "text/plain": [
       "<Figure size 432x288 with 1 Axes>"
      ]
     },
     "metadata": {
      "needs_background": "light"
     },
     "output_type": "display_data"
    }
   ],
   "source": [
    "start = time.time()\n",
    "theta, error_list  = gradient_descent(X_Train,Y_Train)\n",
    "end = time.time()\n",
    "print(\"Time taken: \",end-start)\n",
    "print(theta)\n",
    "print(error_list)\n",
    "\n",
    "plt.plot(error_list)\n",
    "plt.show()"
   ]
  },
  {
   "cell_type": "code",
   "execution_count": 80,
   "metadata": {},
   "outputs": [
    {
     "name": "stdout",
     "output_type": "stream",
     "text": [
      "400\n",
      "[112, 115, -25, -47, -102, -50, -81, 20, 172, 170, -111, -25, -8, 120, 35, 41, -199, 17, 8, 133, 61, -68, -114, -12, -64, 7, 23, 104, 19, -31, 107, -51, 215, -20, -238, 152, -8, 9, -318, 73, -88, -214, -248, 132, -80, 101, -9, 14, -104, -33, 7, -184, 60, -105, -112, -163, 59, 105, -79, 38, 36, -56, 162, 38, 52, 19, 78, -7, -8, -3, -27, 160, -46, 18, -72, -76, 33, -168, -6, 149, -43, -127, -201, 33, 144, 272, -266, -96, 74, -96, -54, 122, -171, -123, 46, 94, -224, -128, -181, -57, 125, -90, -7, -5, -4, 77, 40, 89, -34, -91, 35, 14, 114, 2, 70, 28, -149, 2, 17, -27, -25, -265, 266, 154, 10, 81, -16, -160, 109, -37, -224, 118, -34, -92, 168, 34, -23, 56, 41, -183, 127, -79, 211, 133, -4, -160, -19, 131, 32, 53, -9, -48, 14, -74, 24, 140, 347, 215, 23, -43, -179, 8, 299, 71, -27, 154, -163, 140, 169, -52, 61, 94, 91, 28, 172, -157, -99, -176, -23, -113, -18, -64, -81, 63, -75, 86, -62, -115, -83, 185, -46, 218, -62, -89, 44, -5, 68, -66, 208, -146, -103, -122, 21, 50, 148, 42, 89, 170, -280, -181, -111, -88, 25, -56, 74, -25, -57, -34, 61, 88, -89, -155, 44, 238, -54, 10, -68, 7, 5, 37, 114, 14, -113, 43, 96, -96, -181, 166, 106, 57, -13, -30, -52, -178, -70, -33, -179, -32, 30, -127, 13, -6, -264, -262, -174, 41, 128, 67, 118, 90, 17, -317, 186, -136, -48, -92, -94, 135, 161, -45, -149, 110, -23, 85, 103, 20, -56, -32, 25, 72, 23, -135, -21, -15, -133, 159, -14, -139, 205, 45, 89, 27, 205, -45, -35, -45, 48, -68, 91, -90, -101, -30, -95, -27, 55, -38, -81, -187, -172, 37, 74, 301, 125, 128, 47, -26, 180, -63, 125, 150, -38, -209, -105, 0, -49, -42, 157, 131, 20, -94, 185, -71, 61, 76, 96, -111, 111, -40, 85, -89, -209, 157, -99, 61, 123, 27, -183, -38, -52, -123, 8, -96, -44, -171, -226, 0, -214, 184, -14, 12, 29, 240, -33, 130, 53, 6, -92, -15, 224, -19, -146, -55, -100, 3, -19, -67, -22, -181, -130, 41, -43, -165, 85, -5, 130, -52, -2, 172, 168, 42, -32, 56, 108, -42, -75, -88, -194, 123, 62, 53]\n"
     ]
    }
   ],
   "source": [
    "n = X_Test.shape[0]\n",
    "Y_Pred = []\n",
    "\n",
    "for i in range(n):\n",
    "    p = int(hypothesis(X_Test[i],theta))\n",
    "    Y_Pred.append(p)\n",
    "    \n",
    "print(len(Y_Pred))\n",
    "print(Y_Pred)"
   ]
  },
  {
   "cell_type": "code",
   "execution_count": 82,
   "metadata": {},
   "outputs": [],
   "source": [
    "# Saving File\n",
    "df = pd.DataFrame(data=Y_Pred,columns=[\"target\"])\n",
    "df.to_csv(\"Pred.csv\")"
   ]
  },
  {
   "cell_type": "code",
   "execution_count": null,
   "metadata": {},
   "outputs": [],
   "source": []
  },
  {
   "cell_type": "code",
   "execution_count": null,
   "metadata": {},
   "outputs": [],
   "source": []
  }
 ],
 "metadata": {
  "kernelspec": {
   "display_name": "Python 3",
   "language": "python",
   "name": "python3"
  },
  "language_info": {
   "codemirror_mode": {
    "name": "ipython",
    "version": 3
   },
   "file_extension": ".py",
   "mimetype": "text/x-python",
   "name": "python",
   "nbconvert_exporter": "python",
   "pygments_lexer": "ipython3",
   "version": "3.8.1"
  }
 },
 "nbformat": 4,
 "nbformat_minor": 4
}
