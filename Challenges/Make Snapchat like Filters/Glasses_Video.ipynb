{
 "cells": [
  {
   "cell_type": "code",
   "execution_count": 1,
   "metadata": {},
   "outputs": [],
   "source": [
    "# Loading Libraries\n",
    "import cv2\n",
    "import matplotlib.pyplot as plt\n",
    "faceCascade = cv2.CascadeClassifier(\"haarcascade_frontalface_alt.xml\")"
   ]
  },
  {
   "cell_type": "code",
   "execution_count": 2,
   "metadata": {},
   "outputs": [],
   "source": [
    "glasses = cv2.cvtColor(cv2.imread('glasses.png'),cv2.COLOR_BGR2RGB)\n"
   ]
  },
  {
   "cell_type": "code",
   "execution_count": 3,
   "metadata": {},
   "outputs": [],
   "source": [
    "def put_glasses(glasses,frame,x,y,w,h):\n",
    "    ly = int(y+h/3)\n",
    "    lx = int(x+w/7)\n",
    "    ry = int(ly+h/7)\n",
    "    rx = int(lx+(3*w)/4)\n",
    "    glass_width = int((rx-lx)*1.3)\n",
    "    glass_height = int((ry-ly)*2.5)\n",
    "    \n",
    "    glasses = cv2.resize(glasses,(glass_width,glass_height))\n",
    "    #cv2.rectangle(frame,(lx,ly),(rx,ry),(255,0,0),3)\n",
    "\n",
    "    for i in range(glass_height):\n",
    "        for j in range(glass_width):\n",
    "            for k in range(3):\n",
    "                if glasses[i][j][k]<235: #avoiding white\n",
    "                    frame[int(ly*.9)+i][int(lx*.9)+j][k] = glasses[i][j][k]\n",
    "                    \n",
    "    return frame\n",
    "    "
   ]
  },
  {
   "cell_type": "code",
   "execution_count": 4,
   "metadata": {},
   "outputs": [],
   "source": [
    "video_capture = cv2.VideoCapture(0) \n",
    "\n",
    "while True:\n",
    "\n",
    "    # Capture frame-by-frame\n",
    "    ret, frame = video_capture.read()\n",
    "    \n",
    "    if ret == False:\n",
    "        continue\n",
    "\n",
    "    gray = cv2.cvtColor(frame, cv2.COLOR_BGR2GRAY)\n",
    "\n",
    "    faces = faceCascade.detectMultiScale(gray,scaleFactor=1.1,minNeighbors=5,minSize=(40,40))\n",
    "\n",
    "    # Draw a rectangle around the faces\n",
    "    for x, y, w, h in faces:\n",
    "        #cv2.rectangle(frame, (x, y), (x+w, y+h), (0, 255, 0), 2)\n",
    "        #cv2.putText(frame,\"Person Detected\",(x,y),cv2.FONT_HERSHEY_SIMPLEX,1,(0,0,255),2)\n",
    "        frame = put_glasses(glasses,frame,x,y,w,h)\n",
    "        \n",
    "    \n",
    "    cv2.imshow('Video', frame)\n",
    "\n",
    "\n",
    "    if cv2.waitKey(1) & 0xFF == ord('q'):\n",
    "        break\n",
    "\n",
    "\n",
    "# When everything is done, release the capture\n",
    "video_capture.release()\n",
    "cv2.destroyAllWindows()\n"
   ]
  },
  {
   "cell_type": "code",
   "execution_count": null,
   "metadata": {},
   "outputs": [],
   "source": []
  }
 ],
 "metadata": {
  "kernelspec": {
   "display_name": "Python 3",
   "language": "python",
   "name": "python3"
  },
  "language_info": {
   "codemirror_mode": {
    "name": "ipython",
    "version": 3
   },
   "file_extension": ".py",
   "mimetype": "text/x-python",
   "name": "python",
   "nbconvert_exporter": "python",
   "pygments_lexer": "ipython3",
   "version": "3.8.1"
  }
 },
 "nbformat": 4,
 "nbformat_minor": 4
}
