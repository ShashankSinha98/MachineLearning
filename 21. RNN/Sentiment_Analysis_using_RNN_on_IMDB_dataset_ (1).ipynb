{
  "nbformat": 4,
  "nbformat_minor": 0,
  "metadata": {
    "colab": {
      "name": "Sentiment Analysis using RNN on IMDB dataset .ipynb",
      "provenance": []
    },
    "kernelspec": {
      "name": "python3",
      "display_name": "Python 3"
    },
    "accelerator": "GPU"
  },
  "cells": [
    {
      "cell_type": "code",
      "metadata": {
        "id": "WabtRiivmgr5",
        "colab_type": "code",
        "outputId": "a1b12643-ef21-4400-eb2a-a1a27b37f7af",
        "colab": {
          "base_uri": "https://localhost:8080/",
          "height": 34
        }
      },
      "source": [
        "from keras.datasets import imdb"
      ],
      "execution_count": 0,
      "outputs": [
        {
          "output_type": "stream",
          "text": [
            "Using TensorFlow backend.\n"
          ],
          "name": "stderr"
        }
      ]
    },
    {
      "cell_type": "code",
      "metadata": {
        "id": "eB2mYj_-nDQy",
        "colab_type": "code",
        "outputId": "1a64f7d5-a197-42a0-df29-9a83887f1b4a",
        "colab": {
          "base_uri": "https://localhost:8080/",
          "height": 51
        }
      },
      "source": [
        "((XT,YT),(Xt,Yt)) = imdb.load_data(num_words=1000)"
      ],
      "execution_count": 0,
      "outputs": [
        {
          "output_type": "stream",
          "text": [
            "Downloading data from https://s3.amazonaws.com/text-datasets/imdb.npz\n",
            "17465344/17464789 [==============================] - 0s 0us/step\n"
          ],
          "name": "stdout"
        }
      ]
    },
    {
      "cell_type": "code",
      "metadata": {
        "id": "Adkk0rV-nU-0",
        "colab_type": "code",
        "outputId": "53d24386-4621-40a7-9399-d05c87242e5c",
        "colab": {
          "base_uri": "https://localhost:8080/",
          "height": 51
        }
      },
      "source": [
        "print(len(XT))\n",
        "print(len(Xt))"
      ],
      "execution_count": 0,
      "outputs": [
        {
          "output_type": "stream",
          "text": [
            "25000\n",
            "25000\n"
          ],
          "name": "stdout"
        }
      ]
    },
    {
      "cell_type": "code",
      "metadata": {
        "id": "KcL_tqIyngM6",
        "colab_type": "code",
        "outputId": "62a0f28e-c19e-4cc3-c673-25f22fd202b5",
        "colab": {
          "base_uri": "https://localhost:8080/",
          "height": 71
        }
      },
      "source": [
        "print(XT[0])\n",
        "print(YT[:10])"
      ],
      "execution_count": 0,
      "outputs": [
        {
          "output_type": "stream",
          "text": [
            "[1, 14, 22, 16, 43, 530, 973, 2, 2, 65, 458, 2, 66, 2, 4, 173, 36, 256, 5, 25, 100, 43, 838, 112, 50, 670, 2, 9, 35, 480, 284, 5, 150, 4, 172, 112, 167, 2, 336, 385, 39, 4, 172, 2, 2, 17, 546, 38, 13, 447, 4, 192, 50, 16, 6, 147, 2, 19, 14, 22, 4, 2, 2, 469, 4, 22, 71, 87, 12, 16, 43, 530, 38, 76, 15, 13, 2, 4, 22, 17, 515, 17, 12, 16, 626, 18, 2, 5, 62, 386, 12, 8, 316, 8, 106, 5, 4, 2, 2, 16, 480, 66, 2, 33, 4, 130, 12, 16, 38, 619, 5, 25, 124, 51, 36, 135, 48, 25, 2, 33, 6, 22, 12, 215, 28, 77, 52, 5, 14, 407, 16, 82, 2, 8, 4, 107, 117, 2, 15, 256, 4, 2, 7, 2, 5, 723, 36, 71, 43, 530, 476, 26, 400, 317, 46, 7, 4, 2, 2, 13, 104, 88, 4, 381, 15, 297, 98, 32, 2, 56, 26, 141, 6, 194, 2, 18, 4, 226, 22, 21, 134, 476, 26, 480, 5, 144, 30, 2, 18, 51, 36, 28, 224, 92, 25, 104, 4, 226, 65, 16, 38, 2, 88, 12, 16, 283, 5, 16, 2, 113, 103, 32, 15, 16, 2, 19, 178, 32]\n",
            "[1 0 0 1 0 0 1 0 1 0]\n"
          ],
          "name": "stdout"
        }
      ]
    },
    {
      "cell_type": "code",
      "metadata": {
        "id": "0Sn26Vpdni7B",
        "colab_type": "code",
        "outputId": "c2d48526-cb1c-4fe0-b041-6591ab7dfd5f",
        "colab": {
          "base_uri": "https://localhost:8080/",
          "height": 51
        }
      },
      "source": [
        "word_idx = imdb.get_word_index()"
      ],
      "execution_count": 0,
      "outputs": [
        {
          "output_type": "stream",
          "text": [
            "Downloading data from https://s3.amazonaws.com/text-datasets/imdb_word_index.json\n",
            "1646592/1641221 [==============================] - 0s 0us/step\n"
          ],
          "name": "stdout"
        }
      ]
    },
    {
      "cell_type": "code",
      "metadata": {
        "id": "cjuD0KXdnnh5",
        "colab_type": "code",
        "outputId": "6b3aeff9-2f9f-44b7-8538-74a5d55b5b4f",
        "colab": {
          "base_uri": "https://localhost:8080/",
          "height": 34
        }
      },
      "source": [
        "print(word_idx.get('5'))"
      ],
      "execution_count": 0,
      "outputs": [
        {
          "output_type": "stream",
          "text": [
            "454\n"
          ],
          "name": "stdout"
        }
      ]
    },
    {
      "cell_type": "code",
      "metadata": {
        "id": "n89E84-Lnu4y",
        "colab_type": "code",
        "outputId": "64ab85f0-d7cd-489b-9f3b-526aa2147e3e",
        "colab": {
          "base_uri": "https://localhost:8080/",
          "height": 71
        }
      },
      "source": [
        "idx_word_dict = {value:key for (key,value) in word_idx.items()}\n",
        "actual_review = ' '.join([idx_word_dict.get(idx-1,'?') for idx in XT[0]])\n",
        "print(actual_review)\n",
        "print(len(actual_review.split()))"
      ],
      "execution_count": 0,
      "outputs": [
        {
          "output_type": "stream",
          "text": [
            "? was not for it's self joke the the see already the their the a every so found of his movies it's third plot good episodes the in who guess wasn't of doesn't a again plot find the poor let her a again the the with fight like that oh a big good for to watching the but was not a the the turn a not well how this for it's self like bad as that the a not with starts with this for david movie the of only moments this br special br films of a the the for guess their the an a man this for like musical of his ever more so while there his the an to not this role be get when of was others for people the br a character love the as found a the is the of upon so well it's self fine have early seeing if is a the the that watch him a sex as plays could by the time have through to long the movie a music not on scene fine have guess of i'm all the movie more so be whole its his watch a music see for like the him this for everything of for the never characters by as for the but down by\n",
            "218\n"
          ],
          "name": "stdout"
        }
      ]
    },
    {
      "cell_type": "code",
      "metadata": {
        "id": "45MQJsEpoKfy",
        "colab_type": "code",
        "colab": {}
      },
      "source": [
        "# Create a 2D Tensor to be processed by the embedding layer\n",
        "from keras.preprocessing import sequence\n",
        "\n",
        "X_train = sequence.pad_sequences(XT,maxlen=500)\n",
        "X_test = sequence.pad_sequences(Xt,maxlen=500)"
      ],
      "execution_count": 0,
      "outputs": []
    },
    {
      "cell_type": "code",
      "metadata": {
        "id": "yMfZCkorzRnf",
        "colab_type": "code",
        "outputId": "6d0c26c2-a47c-41bf-df76-22d0c68740d9",
        "colab": {
          "base_uri": "https://localhost:8080/",
          "height": 527
        }
      },
      "source": [
        "print(X_train.shape)\n",
        "print(X_test.shape)\n",
        "\n",
        "print(X_train[0])"
      ],
      "execution_count": 0,
      "outputs": [
        {
          "output_type": "stream",
          "text": [
            "(25000, 500)\n",
            "(25000, 500)\n",
            "[  0   0   0   0   0   0   0   0   0   0   0   0   0   0   0   0   0   0\n",
            "   0   0   0   0   0   0   0   0   0   0   0   0   0   0   0   0   0   0\n",
            "   0   0   0   0   0   0   0   0   0   0   0   0   0   0   0   0   0   0\n",
            "   0   0   0   0   0   0   0   0   0   0   0   0   0   0   0   0   0   0\n",
            "   0   0   0   0   0   0   0   0   0   0   0   0   0   0   0   0   0   0\n",
            "   0   0   0   0   0   0   0   0   0   0   0   0   0   0   0   0   0   0\n",
            "   0   0   0   0   0   0   0   0   0   0   0   0   0   0   0   0   0   0\n",
            "   0   0   0   0   0   0   0   0   0   0   0   0   0   0   0   0   0   0\n",
            "   0   0   0   0   0   0   0   0   0   0   0   0   0   0   0   0   0   0\n",
            "   0   0   0   0   0   0   0   0   0   0   0   0   0   0   0   0   0   0\n",
            "   0   0   0   0   0   0   0   0   0   0   0   0   0   0   0   0   0   0\n",
            "   0   0   0   0   0   0   0   0   0   0   0   0   0   0   0   0   0   0\n",
            "   0   0   0   0   0   0   0   0   0   0   0   0   0   0   0   0   0   0\n",
            "   0   0   0   0   0   0   0   0   0   0   0   0   0   0   0   0   0   0\n",
            "   0   0   0   0   0   0   0   0   0   0   0   0   0   0   0   0   0   0\n",
            "   0   0   0   0   0   0   0   0   0   0   0   0   1  14  22  16  43 530\n",
            " 973   2   2  65 458   2  66   2   4 173  36 256   5  25 100  43 838 112\n",
            "  50 670   2   9  35 480 284   5 150   4 172 112 167   2 336 385  39   4\n",
            " 172   2   2  17 546  38  13 447   4 192  50  16   6 147   2  19  14  22\n",
            "   4   2   2 469   4  22  71  87  12  16  43 530  38  76  15  13   2   4\n",
            "  22  17 515  17  12  16 626  18   2   5  62 386  12   8 316   8 106   5\n",
            "   4   2   2  16 480  66   2  33   4 130  12  16  38 619   5  25 124  51\n",
            "  36 135  48  25   2  33   6  22  12 215  28  77  52   5  14 407  16  82\n",
            "   2   8   4 107 117   2  15 256   4   2   7   2   5 723  36  71  43 530\n",
            " 476  26 400 317  46   7   4   2   2  13 104  88   4 381  15 297  98  32\n",
            "   2  56  26 141   6 194   2  18   4 226  22  21 134 476  26 480   5 144\n",
            "  30   2  18  51  36  28 224  92  25 104   4 226  65  16  38   2  88  12\n",
            "  16 283   5  16   2 113 103  32  15  16   2  19 178  32]\n"
          ],
          "name": "stdout"
        }
      ]
    },
    {
      "cell_type": "code",
      "metadata": {
        "id": "wxsx1TENzZ8K",
        "colab_type": "code",
        "outputId": "f85bbae9-6f5b-40a5-a3ab-575c3d7d4ac2",
        "colab": {
          "base_uri": "https://localhost:8080/",
          "height": 255
        }
      },
      "source": [
        "# Create a Model in Keras\n",
        "\n",
        "from keras.layers import Embedding, SimpleRNN,Dense\n",
        "from keras.models import Sequential\n",
        "\n",
        "model = Sequential()\n",
        "model.add(Embedding(10000,64))\n",
        "model.add(SimpleRNN(32))\n",
        "model.add(Dense(1,activation='sigmoid'))\n",
        "model.summary()"
      ],
      "execution_count": 0,
      "outputs": [
        {
          "output_type": "stream",
          "text": [
            "Model: \"sequential_1\"\n",
            "_________________________________________________________________\n",
            "Layer (type)                 Output Shape              Param #   \n",
            "=================================================================\n",
            "embedding_1 (Embedding)      (None, None, 64)          640000    \n",
            "_________________________________________________________________\n",
            "simple_rnn_1 (SimpleRNN)     (None, 32)                3104      \n",
            "_________________________________________________________________\n",
            "dense_1 (Dense)              (None, 1)                 33        \n",
            "=================================================================\n",
            "Total params: 643,137\n",
            "Trainable params: 643,137\n",
            "Non-trainable params: 0\n",
            "_________________________________________________________________\n"
          ],
          "name": "stdout"
        }
      ]
    },
    {
      "cell_type": "code",
      "metadata": {
        "id": "irOSr1pnGc7m",
        "colab_type": "code",
        "colab": {}
      },
      "source": [
        "model.compile(optimizer='rmsprop',loss='binary_crossentropy',metrics=['accuracy'])"
      ],
      "execution_count": 0,
      "outputs": []
    },
    {
      "cell_type": "code",
      "metadata": {
        "id": "2H4D3AbYHytU",
        "colab_type": "code",
        "outputId": "b3d8e882-6440-4de5-c963-f038aa871620",
        "colab": {
          "base_uri": "https://localhost:8080/",
          "height": 190
        }
      },
      "source": [
        "from keras.callbacks import ModelCheckpoint # Save the best model, fight overfitting\n",
        "from keras.callbacks import EarlyStopping # Save time\n",
        "\n",
        "\n",
        "checkpoint = ModelCheckpoint(\"best_model.h5\", monitor='val_loss', verbose=0, save_best_only=True, save_weights_only=False, mode='auto',period=1)\n",
        "earlystop = EarlyStopping(monitor='val_accuracy',patience=1)\n",
        "\n",
        "hist = model.fit(X_train,YT,validation_split=0.2,epochs=10,batch_size=128,callbacks=[checkpoint, earlystop])"
      ],
      "execution_count": 0,
      "outputs": [
        {
          "output_type": "stream",
          "text": [
            "/usr/local/lib/python3.6/dist-packages/tensorflow/python/framework/indexed_slices.py:434: UserWarning: Converting sparse IndexedSlices to a dense Tensor of unknown shape. This may consume a large amount of memory.\n",
            "  \"Converting sparse IndexedSlices to a dense Tensor of unknown shape. \"\n"
          ],
          "name": "stderr"
        },
        {
          "output_type": "stream",
          "text": [
            "Train on 20000 samples, validate on 5000 samples\n",
            "Epoch 1/10\n",
            "20000/20000 [==============================] - 51s 3ms/step - loss: 0.6174 - accuracy: 0.6399 - val_loss: 1.0419 - val_accuracy: 0.5276\n",
            "Epoch 2/10\n",
            "20000/20000 [==============================] - 48s 2ms/step - loss: 0.4532 - accuracy: 0.7947 - val_loss: 0.4434 - val_accuracy: 0.8000\n",
            "Epoch 3/10\n",
            " 4096/20000 [=====>........................] - ETA: 37s - loss: 0.3987 - accuracy: 0.8276"
          ],
          "name": "stdout"
        }
      ]
    },
    {
      "cell_type": "code",
      "metadata": {
        "id": "OZ9X2IRmI4qn",
        "colab_type": "code",
        "outputId": "5945eabf-cc38-4007-a56e-a66ed8b94cbe",
        "colab": {
          "base_uri": "https://localhost:8080/",
          "height": 361
        }
      },
      "source": [
        "# Visualizing loss\n",
        "\n",
        "h = hist.history\n",
        "\n",
        "import matplotlib.pyplot as plt\n",
        "plt.style.use('seaborn') \n",
        "plt.plot(h['val_loss'],label='Validation Loss') \n",
        "plt.plot(h['loss'],label='Training Loss') \n",
        "plt.xlabel('Epochs') \n",
        "plt.ylabel('Loss') \n",
        "plt.legend() \n",
        "plt.show()"
      ],
      "execution_count": 0,
      "outputs": [
        {
          "output_type": "display_data",
          "data": {
            "image/png": "[encoded data removed]",
            "text/plain": [
              "<Figure size 576x396 with 1 Axes>"
            ]
          },
          "metadata": {
            "tags": []
          }
        }
      ]
    },
    {
      "cell_type": "code",
      "metadata": {
        "id": "6PnXdre4Kjzd",
        "colab_type": "code",
        "outputId": "841e86df-d780-47ba-b7ec-3a36d6c5b6bd",
        "colab": {
          "base_uri": "https://localhost:8080/",
          "height": 361
        }
      },
      "source": [
        "plt.plot(h['val_accuracy'],label='Validation Acc') \n",
        "plt.plot(h['accuracy'],label='Training Acc') \n",
        "plt.xlabel('Epochs') \n",
        "plt.ylabel('Loss') \n",
        "plt.legend() \n",
        "plt.show()\n"
      ],
      "execution_count": 0,
      "outputs": [
        {
          "output_type": "display_data",
          "data": {
            "image/png": "[encoded data removed]",
            "text/plain": [
              "<Figure size 576x396 with 1 Axes>"
            ]
          },
          "metadata": {
            "tags": []
          }
        }
      ]
    },
    {
      "cell_type": "code",
      "metadata": {
        "id": "bkWbuSWaK_R0",
        "colab_type": "code",
        "outputId": "c94aa83d-a4d1-44f2-b146-aaa12c35efdc",
        "colab": {
          "base_uri": "https://localhost:8080/",
          "height": 34
        }
      },
      "source": [
        "#model.save('my_model.h5') #hdf5 format, saves on the disk\n",
        "!ls"
      ],
      "execution_count": 0,
      "outputs": [
        {
          "output_type": "stream",
          "text": [
            "best_model.h5  sample_data\n"
          ],
          "name": "stdout"
        }
      ]
    },
    {
      "cell_type": "code",
      "metadata": {
        "id": "mAcM-sf1LJ87",
        "colab_type": "code",
        "colab": {}
      },
      "source": [
        "model.load_weights('best_model.h5')"
      ],
      "execution_count": 0,
      "outputs": []
    },
    {
      "cell_type": "code",
      "metadata": {
        "id": "piU3YuyqLRIW",
        "colab_type": "code",
        "outputId": "33a03c97-cf57-432d-d354-840dc1faaf7b",
        "colab": {
          "base_uri": "https://localhost:8080/",
          "height": 51
        }
      },
      "source": [
        "model.evaluate(X_test,Yt)"
      ],
      "execution_count": 0,
      "outputs": [
        {
          "output_type": "stream",
          "text": [
            "25000/25000 [==============================] - 23s 907us/step\n"
          ],
          "name": "stdout"
        },
        {
          "output_type": "execute_result",
          "data": {
            "text/plain": [
              "[0.34136415613174437, 0.855679988861084]"
            ]
          },
          "metadata": {
            "tags": []
          },
          "execution_count": 18
        }
      ]
    },
    {
      "cell_type": "code",
      "metadata": {
        "id": "dpBsEqq8NeAC",
        "colab_type": "code",
        "outputId": "201fa018-90c9-46c5-911d-c11a619b56a2",
        "colab": {
          "base_uri": "https://localhost:8080/",
          "height": 51
        }
      },
      "source": [
        "model.evaluate(X_train,YT)"
      ],
      "execution_count": 0,
      "outputs": [
        {
          "output_type": "stream",
          "text": [
            "25000/25000 [==============================] - 23s 902us/step\n"
          ],
          "name": "stdout"
        },
        {
          "output_type": "execute_result",
          "data": {
            "text/plain": [
              "[0.2062697268772125, 0.9301999807357788]"
            ]
          },
          "metadata": {
            "tags": []
          },
          "execution_count": 19
        }
      ]
    },
    {
      "cell_type": "code",
      "metadata": {
        "id": "KkhSbTtJNtbz",
        "colab_type": "code",
        "colab": {}
      },
      "source": [
        ""
      ],
      "execution_count": 0,
      "outputs": []
    }
  ]
}