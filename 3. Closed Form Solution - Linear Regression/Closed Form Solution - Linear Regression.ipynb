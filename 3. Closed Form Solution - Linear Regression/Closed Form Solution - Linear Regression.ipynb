{
 "cells": [
  {
   "cell_type": "code",
   "execution_count": 8,
   "metadata": {},
   "outputs": [],
   "source": [
    "import numpy as np\n",
    "import matplotlib.pyplot as plt\n",
    "import pandas as pd\n",
    "from sklearn.datasets import make_regression"
   ]
  },
  {
   "cell_type": "code",
   "execution_count": 31,
   "metadata": {},
   "outputs": [
    {
     "name": "stdout",
     "output_type": "stream",
     "text": [
      "(400, 1) (400,)\n",
      "(400, 1) (400, 1)\n"
     ]
    }
   ],
   "source": [
    "# Generate Dataset\n",
    "X,Y = make_regression(n_samples=400, n_features=1, n_informative=1, noise=1.8, random_state=11)\n",
    "print(X.shape,Y.shape)\n",
    "Y = Y.reshape((-1,1))\n",
    "#print(X,Y)\n",
    "print(X.shape,Y.shape)\n",
    "#print(X,Y)"
   ]
  },
  {
   "cell_type": "code",
   "execution_count": 32,
   "metadata": {},
   "outputs": [
    {
     "data": {
      "image/png": "[encoded data removed]",
      "text/plain": [
       "<Figure size 576x396 with 1 Axes>"
      ]
     },
     "metadata": {},
     "output_type": "display_data"
    }
   ],
   "source": [
    "# Normalise\n",
    "X = (X - X.mean())/X.std()\n",
    "\n",
    "# Visualize\n",
    "plt.style.use(\"seaborn\")\n",
    "plt.scatter(X,Y)\n",
    "plt.show()"
   ]
  },
  {
   "cell_type": "code",
   "execution_count": 41,
   "metadata": {},
   "outputs": [
    {
     "name": "stdout",
     "output_type": "stream",
     "text": [
      "(400, 1)\n",
      "[[-14.7699111 ]\n",
      " [ 15.19790363]\n",
      " [ -4.62367849]\n",
      " [ -9.6360043 ]\n",
      " [ -1.16210302]]\n",
      "<class 'numpy.ndarray'>\n",
      "(400, 1)\n",
      "[[-14.7699111 ]\n",
      " [ 15.19790363]\n",
      " [ -4.62367849]\n",
      " [ -9.6360043 ]\n",
      " [ -1.16210302]]\n",
      "<class 'numpy.matrix'>\n"
     ]
    }
   ],
   "source": [
    "ones = np.ones((X.shape[0],1))\n",
    "X_ = np.hstack((X, ones))\n",
    "#print(X_.shape)\n",
    "#print(X_[:5,])\n",
    "\n",
    "\n",
    "print(Y.shape)\n",
    "print(Y[:5,:])\n",
    "print(type(Y))\n",
    "\n",
    "Y_ = np.mat(Y)\n",
    "\n",
    "print(Y.shape)\n",
    "print(Y_[:5,])\n",
    "print(type(Y_))"
   ]
  },
  {
   "cell_type": "code",
   "execution_count": 42,
   "metadata": {},
   "outputs": [],
   "source": [
    "# Predict\n",
    "def predict(X, theta):\n",
    "    return np.dot(X,theta)\n",
    "\n",
    "def getThetaClosedForm(X,Y):\n",
    "    Y = np.mat(Y)\n",
    "    first = np.dot(X.T,X)\n",
    "    second = np.dot(X.T,Y)\n",
    "    \n",
    "    theta = np.linalg.pinv(first)*second\n",
    "    \n",
    "    return theta"
   ]
  },
  {
   "cell_type": "code",
   "execution_count": 43,
   "metadata": {},
   "outputs": [
    {
     "name": "stdout",
     "output_type": "stream",
     "text": [
      "[[19.45877082]\n",
      " [-0.29187892]]\n"
     ]
    }
   ],
   "source": [
    "theta = getThetaClosedForm(X_,Y)\n",
    "print(theta)"
   ]
  },
  {
   "cell_type": "code",
   "execution_count": null,
   "metadata": {},
   "outputs": [],
   "source": [
    "plot.scatter(X,Y)\n"
   ]
  }
 ],
 "metadata": {
  "kernelspec": {
   "display_name": "Python 3",
   "language": "python",
   "name": "python3"
  },
  "language_info": {
   "codemirror_mode": {
    "name": "ipython",
    "version": 3
   },
   "file_extension": ".py",
   "mimetype": "text/x-python",
   "name": "python",
   "nbconvert_exporter": "python",
   "pygments_lexer": "ipython3",
   "version": "3.8.1"
  }
 },
 "nbformat": 4,
 "nbformat_minor": 4
}
