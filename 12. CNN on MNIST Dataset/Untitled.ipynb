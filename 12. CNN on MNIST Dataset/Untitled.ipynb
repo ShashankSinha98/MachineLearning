{
 "cells": [
  {
   "cell_type": "code",
   "execution_count": 2,
   "metadata": {},
   "outputs": [],
   "source": [
    "from keras.layers import *\n",
    "from keras.models import Sequential"
   ]
  },
  {
   "cell_type": "markdown",
   "metadata": {},
   "source": [
    "## Building Model"
   ]
  },
  {
   "cell_type": "code",
   "execution_count": 3,
   "metadata": {},
   "outputs": [],
   "source": [
    "model = Sequential()\n",
    "model.add(Conv2D(32,(3,3),activation='relu',input_shape=(28,28,1)))\n",
    "model.add(MaxPool2D((2,2)))\n",
    "model.add(Conv2D(64,(3,3),activation='relu'))\n",
    "model.add(MaxPool2D((2,2)))\n",
    "model.add(Conv2D(64,(3,3),activation='relu'))\n",
    "model.add(Flatten())\n",
    "model.add(Dense(64,activation='relu'))\n",
    "model.add(Dense(10,activation='softmax'))"
   ]
  },
  {
   "cell_type": "code",
   "execution_count": 4,
   "metadata": {},
   "outputs": [
    {
     "name": "stdout",
     "output_type": "stream",
     "text": [
      "Model: \"sequential_1\"\n",
      "_________________________________________________________________\n",
      "Layer (type)                 Output Shape              Param #   \n",
      "=================================================================\n",
      "conv2d_1 (Conv2D)            (None, 26, 26, 32)        320       \n",
      "_________________________________________________________________\n",
      "max_pooling2d_1 (MaxPooling2 (None, 13, 13, 32)        0         \n",
      "_________________________________________________________________\n",
      "conv2d_2 (Conv2D)            (None, 11, 11, 64)        18496     \n",
      "_________________________________________________________________\n",
      "max_pooling2d_2 (MaxPooling2 (None, 5, 5, 64)          0         \n",
      "_________________________________________________________________\n",
      "conv2d_3 (Conv2D)            (None, 3, 3, 64)          36928     \n",
      "_________________________________________________________________\n",
      "flatten_1 (Flatten)          (None, 576)               0         \n",
      "_________________________________________________________________\n",
      "dense_1 (Dense)              (None, 64)                36928     \n",
      "_________________________________________________________________\n",
      "dense_2 (Dense)              (None, 10)                650       \n",
      "=================================================================\n",
      "Total params: 93,322\n",
      "Trainable params: 93,322\n",
      "Non-trainable params: 0\n",
      "_________________________________________________________________\n"
     ]
    }
   ],
   "source": [
    "model.summary()"
   ]
  },
  {
   "cell_type": "markdown",
   "metadata": {},
   "source": [
    "## Importing Dataset"
   ]
  },
  {
   "cell_type": "code",
   "execution_count": 5,
   "metadata": {},
   "outputs": [],
   "source": [
    "from keras.datasets import mnist\n",
    "from keras.utils import to_categorical"
   ]
  },
  {
   "cell_type": "code",
   "execution_count": 6,
   "metadata": {},
   "outputs": [],
   "source": [
    "(X_Train,Y_Train),(X_Test,Y_Test) = mnist.load_data()"
   ]
  },
  {
   "cell_type": "code",
   "execution_count": 7,
   "metadata": {},
   "outputs": [],
   "source": [
    "def preprocess_data(X,Y):\n",
    "    X = X.reshape((-1,28,28,1))\n",
    "    X = X/255.0\n",
    "    Y = to_categorical(Y)\n",
    "    return X,Y"
   ]
  },
  {
   "cell_type": "code",
   "execution_count": 8,
   "metadata": {},
   "outputs": [
    {
     "name": "stdout",
     "output_type": "stream",
     "text": [
      "(60000, 28, 28, 1) (60000, 10)\n"
     ]
    }
   ],
   "source": [
    "X_Train, Y_Train = preprocess_data(X_Train,Y_Train)\n",
    "print(X_Train.shape,Y_Train.shape)"
   ]
  },
  {
   "cell_type": "code",
   "execution_count": 9,
   "metadata": {},
   "outputs": [
    {
     "name": "stdout",
     "output_type": "stream",
     "text": [
      "(10000, 28, 28, 1) (10000, 10)\n"
     ]
    }
   ],
   "source": [
    "X_Test, Y_Test = preprocess_data(X_Test,Y_Test)\n",
    "print(X_Test.shape,Y_Test.shape)"
   ]
  },
  {
   "cell_type": "markdown",
   "metadata": {},
   "source": [
    "## Compiling Model"
   ]
  },
  {
   "cell_type": "code",
   "execution_count": 10,
   "metadata": {},
   "outputs": [],
   "source": [
    "model.compile(optimizer='adam',loss='categorical_crossentropy',metrics=['accuracy'])"
   ]
  },
  {
   "cell_type": "code",
   "execution_count": 11,
   "metadata": {},
   "outputs": [
    {
     "name": "stdout",
     "output_type": "stream",
     "text": [
      "Train on 54000 samples, validate on 6000 samples\n",
      "Epoch 1/20\n",
      "54000/54000 [==============================] - 39s 719us/step - loss: 0.2739 - accuracy: 0.9214 - val_loss: 0.0631 - val_accuracy: 0.9810\n",
      "Epoch 2/20\n",
      "54000/54000 [==============================] - 35s 649us/step - loss: 0.0662 - accuracy: 0.9793 - val_loss: 0.0560 - val_accuracy: 0.9823\n",
      "Epoch 3/20\n",
      "54000/54000 [==============================] - 34s 637us/step - loss: 0.0461 - accuracy: 0.9856 - val_loss: 0.0466 - val_accuracy: 0.9868\n",
      "Epoch 4/20\n",
      "54000/54000 [==============================] - 36s 666us/step - loss: 0.0359 - accuracy: 0.9885 - val_loss: 0.0371 - val_accuracy: 0.9907\n",
      "Epoch 5/20\n",
      "54000/54000 [==============================] - 40s 735us/step - loss: 0.0290 - accuracy: 0.9911 - val_loss: 0.0392 - val_accuracy: 0.9897\n",
      "Epoch 6/20\n",
      "54000/54000 [==============================] - 39s 724us/step - loss: 0.0230 - accuracy: 0.9928 - val_loss: 0.0403 - val_accuracy: 0.9878\n",
      "Epoch 7/20\n",
      "54000/54000 [==============================] - 40s 748us/step - loss: 0.0203 - accuracy: 0.9938 - val_loss: 0.0453 - val_accuracy: 0.9892\n",
      "Epoch 8/20\n",
      "54000/54000 [==============================] - 43s 797us/step - loss: 0.0170 - accuracy: 0.9944 - val_loss: 0.0350 - val_accuracy: 0.9900\n",
      "Epoch 9/20\n",
      "54000/54000 [==============================] - 42s 784us/step - loss: 0.0133 - accuracy: 0.9956 - val_loss: 0.0405 - val_accuracy: 0.9913\n",
      "Epoch 10/20\n",
      "54000/54000 [==============================] - 38s 710us/step - loss: 0.0135 - accuracy: 0.9956 - val_loss: 0.0331 - val_accuracy: 0.9917\n",
      "Epoch 11/20\n",
      "54000/54000 [==============================] - 40s 742us/step - loss: 0.0111 - accuracy: 0.9963 - val_loss: 0.0406 - val_accuracy: 0.9912\n",
      "Epoch 12/20\n",
      "54000/54000 [==============================] - 34s 638us/step - loss: 0.0108 - accuracy: 0.9965 - val_loss: 0.0348 - val_accuracy: 0.9910\n",
      "Epoch 13/20\n",
      "54000/54000 [==============================] - 36s 657us/step - loss: 0.0068 - accuracy: 0.9977 - val_loss: 0.0413 - val_accuracy: 0.9912\n",
      "Epoch 14/20\n",
      "54000/54000 [==============================] - 37s 692us/step - loss: 0.0070 - accuracy: 0.9975 - val_loss: 0.0355 - val_accuracy: 0.9917\n",
      "Epoch 15/20\n",
      "54000/54000 [==============================] - 39s 729us/step - loss: 0.0079 - accuracy: 0.9974 - val_loss: 0.0403 - val_accuracy: 0.9895\n",
      "Epoch 16/20\n",
      "54000/54000 [==============================] - 37s 677us/step - loss: 0.0061 - accuracy: 0.9979 - val_loss: 0.0444 - val_accuracy: 0.9912\n",
      "Epoch 17/20\n",
      "54000/54000 [==============================] - 40s 734us/step - loss: 0.0062 - accuracy: 0.9978 - val_loss: 0.0441 - val_accuracy: 0.9912\n",
      "Epoch 18/20\n",
      "54000/54000 [==============================] - 36s 668us/step - loss: 0.0071 - accuracy: 0.9979 - val_loss: 0.0368 - val_accuracy: 0.9925\n",
      "Epoch 19/20\n",
      "54000/54000 [==============================] - 35s 644us/step - loss: 0.0040 - accuracy: 0.9988 - val_loss: 0.0451 - val_accuracy: 0.9905\n",
      "Epoch 20/20\n",
      "54000/54000 [==============================] - 37s 677us/step - loss: 0.0044 - accuracy: 0.9986 - val_loss: 0.0392 - val_accuracy: 0.9932\n"
     ]
    }
   ],
   "source": [
    "hist = model.fit(X_Train,Y_Train,epochs=20,validation_split=0.1,batch_size=128)"
   ]
  },
  {
   "cell_type": "code",
   "execution_count": 12,
   "metadata": {},
   "outputs": [
    {
     "name": "stdout",
     "output_type": "stream",
     "text": [
      "10000/10000 [==============================] - 2s 201us/step\n"
     ]
    },
    {
     "data": {
      "text/plain": [
       "[0.03887164531196565, 0.9902999997138977]"
      ]
     },
     "execution_count": 12,
     "metadata": {},
     "output_type": "execute_result"
    }
   ],
   "source": [
    "model.evaluate(X_Test,Y_Test)"
   ]
  },
  {
   "cell_type": "code",
   "execution_count": null,
   "metadata": {},
   "outputs": [],
   "source": []
  }
 ],
 "metadata": {
  "kernelspec": {
   "display_name": "Python 3",
   "language": "python",
   "name": "python3"
  },
  "language_info": {
   "codemirror_mode": {
    "name": "ipython",
    "version": 3
   },
   "file_extension": ".py",
   "mimetype": "text/x-python",
   "name": "python",
   "nbconvert_exporter": "python",
   "pygments_lexer": "ipython3",
   "version": "3.8.1"
  }
 },
 "nbformat": 4,
 "nbformat_minor": 4
}
