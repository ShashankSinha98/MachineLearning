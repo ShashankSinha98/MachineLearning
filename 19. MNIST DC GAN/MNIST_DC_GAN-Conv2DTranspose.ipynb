{
 "cells": [
  {
   "cell_type": "code",
   "execution_count": 2,
   "metadata": {
    "colab": {
     "base_uri": "https://localhost:8080/",
     "height": 34
    },
    "colab_type": "code",
    "id": "J4nb_VetnEMU",
    "outputId": "643b378f-2e02-472c-f09f-59f4caa9b815"
   },
   "outputs": [
    {
     "name": "stderr",
     "output_type": "stream",
     "text": [
      "Using TensorFlow backend.\n"
     ]
    }
   ],
   "source": [
    "import tensorflow as tf\n",
    "tf.compat.v1.disable_eager_execution()\n",
    "\n",
    "from keras.datasets import mnist\n",
    "from tensorflow.python.keras.layers import *\n",
    "from tensorflow.python.keras.layers.advanced_activations import LeakyReLU\n",
    "from tensorflow.python.keras.models import Sequential,Model\n",
    "from tensorflow.compat.v1.keras.optimizers import Adam\n",
    "\n",
    "import numpy as np\n",
    "import matplotlib.pyplot as plt\n",
    "import math"
   ]
  },
  {
   "cell_type": "code",
   "execution_count": 3,
   "metadata": {
    "colab": {
     "base_uri": "https://localhost:8080/",
     "height": 51
    },
    "colab_type": "code",
    "id": "WCarvj8CnGpg",
    "outputId": "4b15fd2a-84b9-4027-a483-c518ff36d4ec"
   },
   "outputs": [],
   "source": [
    "(X_Train,_),(_,_) = mnist.load_data()"
   ]
  },
  {
   "cell_type": "code",
   "execution_count": 4,
   "metadata": {
    "colab": {
     "base_uri": "https://localhost:8080/",
     "height": 34
    },
    "colab_type": "code",
    "id": "l-IuHpUwnMGN",
    "outputId": "e4e63581-7b4d-493c-c4e8-eadc20b47fe3"
   },
   "outputs": [
    {
     "name": "stdout",
     "output_type": "stream",
     "text": [
      "(60000, 28, 28)\n"
     ]
    }
   ],
   "source": [
    "print(X_Train.shape)"
   ]
  },
  {
   "cell_type": "code",
   "execution_count": 5,
   "metadata": {
    "colab": {
     "base_uri": "https://localhost:8080/",
     "height": 330
    },
    "colab_type": "code",
    "id": "TL3x7BvtnNxy",
    "outputId": "b35bbd7b-9d2b-4f46-be0e-d899a8b1a647"
   },
   "outputs": [
    {
     "data": {
      "image/png": "[encoded data removed]",
      "text/plain": [
       "<Figure size 576x396 with 1 Axes>"
      ]
     },
     "metadata": {},
     "output_type": "display_data"
    }
   ],
   "source": [
    "# Visualize\n",
    "plt.style.use('seaborn')\n",
    "plt.axis('off')\n",
    "plt.imshow(X_Train[0],cmap='gray')\n",
    "plt.show()"
   ]
  },
  {
   "cell_type": "code",
   "execution_count": 6,
   "metadata": {
    "colab": {
     "base_uri": "https://localhost:8080/",
     "height": 68
    },
    "colab_type": "code",
    "id": "hGMqExrTnPKf",
    "outputId": "7939d77d-03d7-496f-df8c-c1e0e67b84ea"
   },
   "outputs": [
    {
     "name": "stdout",
     "output_type": "stream",
     "text": [
      "(60000, 28, 28)\n",
      "<class 'numpy.ndarray'>\n",
      "(60000, 28, 28, 1)\n"
     ]
    }
   ],
   "source": [
    "print(X_Train.shape)\n",
    "print(type(X_Train))\n",
    "\n",
    "X_Train = X_Train.reshape((*X_Train.shape,1))\n",
    "print(X_Train.shape)"
   ]
  },
  {
   "cell_type": "code",
   "execution_count": 7,
   "metadata": {
    "colab": {
     "base_uri": "https://localhost:8080/",
     "height": 51
    },
    "colab_type": "code",
    "id": "yo1aaoWHnZeO",
    "outputId": "6a063e31-29ce-419f-84d0-67998bc78827"
   },
   "outputs": [
    {
     "name": "stdout",
     "output_type": "stream",
     "text": [
      "-1.0\n",
      "1.0\n"
     ]
    }
   ],
   "source": [
    "# Normalize this data - [-1,1]\n",
    "#print(X_Train[0]) - btw 0-255 (int)\n",
    "\n",
    "X_Train = (X_Train.astype('float32') - 127.5) / 127.5\n",
    "\n",
    "print(np.min(X_Train))\n",
    "print(np.max(X_Train))\n"
   ]
  },
  {
   "cell_type": "code",
   "execution_count": 8,
   "metadata": {
    "colab": {},
    "colab_type": "code",
    "id": "nOKN4AqunsgP"
   },
   "outputs": [],
   "source": [
    "TOTAL_EPOCHS = 50\n",
    "BATCH_SIZE = 256\n",
    "NO_OF_BATCHES = int(X_Train.shape[0]/BATCH_SIZE) # 60000/256\n",
    "HALF_BATCH = 128\n",
    "NOISE_DIM = 100 # Upsample into 784 dim vector\n",
    "adam = Adam(lr=2e-4,beta_1=0.5)"
   ]
  },
  {
   "cell_type": "code",
   "execution_count": 9,
   "metadata": {
    "colab": {
     "base_uri": "https://localhost:8080/",
     "height": 564
    },
    "colab_type": "code",
    "id": "JTjPD9jXn4tY",
    "outputId": "c7fafed6-a907-4430-b487-0b68d36f2ddc"
   },
   "outputs": [
    {
     "name": "stdout",
     "output_type": "stream",
     "text": [
      "WARNING:tensorflow:From c:\\python\\python38\\lib\\site-packages\\tensorflow\\python\\ops\\resource_variable_ops.py:1659: calling BaseResourceVariable.__init__ (from tensorflow.python.ops.resource_variable_ops) with constraint is deprecated and will be removed in a future version.\n",
      "Instructions for updating:\n",
      "If using Keras pass *_constraint arguments to layers.\n",
      "Model: \"sequential\"\n",
      "_________________________________________________________________\n",
      "Layer (type)                 Output Shape              Param #   \n",
      "=================================================================\n",
      "dense (Dense)                (None, 6272)              633472    \n",
      "_________________________________________________________________\n",
      "reshape (Reshape)            (None, 7, 7, 128)         0         \n",
      "_________________________________________________________________\n",
      "leaky_re_lu (LeakyReLU)      (None, 7, 7, 128)         0         \n",
      "_________________________________________________________________\n",
      "batch_normalization (BatchNo (None, 7, 7, 128)         512       \n",
      "_________________________________________________________________\n",
      "conv2d_transpose (Conv2DTran (None, 14, 14, 64)        204864    \n",
      "_________________________________________________________________\n",
      "leaky_re_lu_1 (LeakyReLU)    (None, 14, 14, 64)        0         \n",
      "_________________________________________________________________\n",
      "batch_normalization_1 (Batch (None, 14, 14, 64)        256       \n",
      "_________________________________________________________________\n",
      "conv2d_transpose_1 (Conv2DTr (None, 28, 28, 1)         1601      \n",
      "=================================================================\n",
      "Total params: 840,705\n",
      "Trainable params: 840,321\n",
      "Non-trainable params: 384\n",
      "_________________________________________________________________\n"
     ]
    }
   ],
   "source": [
    "# Define the Generator\n",
    "generator = Sequential()\n",
    "\n",
    "generator.add(Dense(7*7*128,input_shape=(NOISE_DIM,)))\n",
    "generator.add(Reshape((7,7,128)))\n",
    "generator.add(LeakyReLU(0.2))\n",
    "generator.add(BatchNormalization())\n",
    "\n",
    "# Double Activation Size - 14 x 14 x 64\n",
    "generator.add(Conv2DTranspose(64,kernel_size=(5,5),strides=(2,2),padding='same'))\n",
    "generator.add(LeakyReLU(0.2))\n",
    "generator.add(BatchNormalization())\n",
    "\n",
    "# Double Activation Size - 28 x 28 x 1\n",
    "generator.add(Conv2DTranspose(1,kernel_size=(5,5),strides=(2,2),padding='same',activation='tanh'))\n",
    "\n",
    "generator.compile(loss='binary_crossentropy',optimizer=adam)\n",
    "generator.summary()"
   ]
  },
  {
   "cell_type": "code",
   "execution_count": 10,
   "metadata": {
    "colab": {
     "base_uri": "https://localhost:8080/",
     "height": 357
    },
    "colab_type": "code",
    "id": "RhbuYQWarGpw",
    "outputId": "413eff2d-a690-4f8a-aa50-5799b31ffdae"
   },
   "outputs": [
    {
     "name": "stdout",
     "output_type": "stream",
     "text": [
      "Model: \"sequential_1\"\n",
      "_________________________________________________________________\n",
      "Layer (type)                 Output Shape              Param #   \n",
      "=================================================================\n",
      "conv2d (Conv2D)              (None, 14, 14, 64)        1664      \n",
      "_________________________________________________________________\n",
      "leaky_re_lu_2 (LeakyReLU)    (None, 14, 14, 64)        0         \n",
      "_________________________________________________________________\n",
      "conv2d_1 (Conv2D)            (None, 7, 7, 128)         204928    \n",
      "_________________________________________________________________\n",
      "leaky_re_lu_3 (LeakyReLU)    (None, 7, 7, 128)         0         \n",
      "_________________________________________________________________\n",
      "flatten (Flatten)            (None, 6272)              0         \n",
      "_________________________________________________________________\n",
      "dense_1 (Dense)              (None, 1)                 6273      \n",
      "=================================================================\n",
      "Total params: 212,865\n",
      "Trainable params: 212,865\n",
      "Non-trainable params: 0\n",
      "_________________________________________________________________\n"
     ]
    }
   ],
   "source": [
    "# Define the Discriminator Model\n",
    "discriminator = Sequential()\n",
    "discriminator.add(Conv2D(64,kernel_size=(5,5),strides=(2,2),padding='same',input_shape=(28,28,1)))\n",
    "discriminator.add(LeakyReLU(0.2))\n",
    "\n",
    "# Next Conv Layer 14 x 14 x 64 ---> 7 x 7 x 128\n",
    "discriminator.add(Conv2D(128,kernel_size=(5,5),strides=(2,2),padding='same'))\n",
    "discriminator.add(LeakyReLU(0.2))\n",
    "\n",
    "# Flatten\n",
    "discriminator.add(Flatten())\n",
    "discriminator.add(Dense(1,activation='sigmoid'))\n",
    "\n",
    "discriminator.compile(loss='binary_crossentropy',optimizer=adam)\n",
    "discriminator.summary()"
   ]
  },
  {
   "cell_type": "code",
   "execution_count": 11,
   "metadata": {
    "colab": {},
    "colab_type": "code",
    "id": "ZbjqWH_Pv-5H"
   },
   "outputs": [],
   "source": [
    "# GAN \n",
    "discriminator.trainable = False\n",
    "gan_input = Input(shape=(NOISE_DIM,))\n",
    "generated_img = generator(gan_input)\n",
    "gan_output = discriminator(generated_img)\n",
    "\n",
    "# Functional API\n",
    "model = Model(gan_input,gan_output)\n",
    "model.compile(loss='binary_crossentropy',optimizer=adam)"
   ]
  },
  {
   "cell_type": "code",
   "execution_count": 12,
   "metadata": {
    "colab": {
     "base_uri": "https://localhost:8080/",
     "height": 34
    },
    "colab_type": "code",
    "id": "9C8nlEt1wVLl",
    "outputId": "735e5a0f-f3e2-46a6-9981-bd7a2c1b440d"
   },
   "outputs": [
    {
     "data": {
      "text/plain": [
       "['.ipynb_checkpoints',\n",
       " 'content',\n",
       " 'images',\n",
       " 'images.zip',\n",
       " 'MNIST_DC_GAN-Conv2DTranspose.ipynb',\n",
       " 'MNIST_DC_GAN.ipynb',\n",
       " 'model']"
      ]
     },
     "execution_count": 12,
     "metadata": {},
     "output_type": "execute_result"
    }
   ],
   "source": [
    "import os\n",
    "#os.mkdir('model')\n",
    "#os.mkdir('images')\n",
    "os.listdir()"
   ]
  },
  {
   "cell_type": "code",
   "execution_count": 13,
   "metadata": {
    "colab": {},
    "colab_type": "code",
    "id": "IW7vE5K2wYjE"
   },
   "outputs": [],
   "source": [
    "def save_images(epoch,samples=100):\n",
    "\n",
    "  noise = np.random.normal(0,1,size=(samples,NOISE_DIM))\n",
    "  generated_imgs = generator.predict(noise)\n",
    "  generated_imgs = generated_imgs.reshape(samples,28,28)\n",
    "\n",
    "  plt.figure(figsize=(10,10))\n",
    "\n",
    "  for i in range(samples):\n",
    "    plt.subplot(10,10,i+1)\n",
    "    plt.imshow(generated_imgs[i],interpolation='nearest',cmap='gray')\n",
    "    plt.axis('off')\n",
    "\n",
    "  plt.tight_layout()\n",
    "  plt.savefig('images/gan_output_epoch_{}.png'.format(epoch+1))\n",
    "  plt.show()"
   ]
  },
  {
   "cell_type": "code",
   "execution_count": null,
   "metadata": {
    "colab": {
     "base_uri": "https://localhost:8080/",
     "height": 1000
    },
    "colab_type": "code",
    "id": "-Axnt0spwb0i",
    "outputId": "a62fd255-f2b3-4198-8a67-9d4de1ea2db0"
   },
   "outputs": [
    {
     "name": "stdout",
     "output_type": "stream",
     "text": [
      "WARNING:tensorflow:Discrepancy between trainable weights and collected trainable weights, did you set `model.trainable` without calling `model.compile` after ?\n",
      "WARNING:tensorflow:Discrepancy between trainable weights and collected trainable weights, did you set `model.trainable` without calling `model.compile` after ?\n"
     ]
    }
   ],
   "source": [
    "# Training Loop\n",
    "\n",
    "d_losses = []\n",
    "g_losses = []\n",
    "\n",
    "for epoch in range(TOTAL_EPOCHS):\n",
    "  epoch_d_loss = 0.\n",
    "  epoch_g_loss = 0.\n",
    "\n",
    "  # Mini batch SGD\n",
    "  for step in range(NO_OF_BATCHES):\n",
    "\n",
    "    # Step-3 Discriminator Training, generator frozen\n",
    "    # 50% Real Data + 50% Fake Data\n",
    "\n",
    "    # Real Data X\n",
    "    idx = np.random.randint(0,X_Train.shape[0],HALF_BATCH)\n",
    "    real_imgs = X_Train[idx]\n",
    "\n",
    "    # Fake Data X\n",
    "    noise = np.random.normal(0,1,size=(HALF_BATCH,NOISE_DIM))\n",
    "    fake_imgs = generator.predict(noise) # Forward Pass only, no training - updating wts of generator\n",
    "\n",
    "    # Labels\n",
    "    real_y = np.ones((HALF_BATCH,1)) * 0.9\n",
    "    fake_y = np.zeros((HALF_BATCH,1))\n",
    "\n",
    "    # Train our Discriminator\n",
    "    d_loss_real = discriminator.train_on_batch(real_imgs,real_y)\n",
    "    d_loss_fake = discriminator.train_on_batch(fake_imgs,fake_y)\n",
    "    d_loss = 0.5*d_loss_real + 0.5*d_loss_fake\n",
    "\n",
    "    epoch_d_loss += d_loss\n",
    "\n",
    "    # Train Generator (Considering Frozen Discriminator)\n",
    "    noise = np.random.normal(0,1,size=(BATCH_SIZE,NOISE_DIM))\n",
    "    ground_truth_y = np.ones((BATCH_SIZE,1))\n",
    "    g_loss = model.train_on_batch(noise,ground_truth_y)\n",
    "    epoch_g_loss += g_loss\n",
    "\n",
    "  print(\"Epoch= %d , Discriminator Loss= %.4f, Generator Loss= %.4f\"%((epoch+1),epoch_d_loss/NO_OF_BATCHES, epoch_g_loss/NO_OF_BATCHES))\n",
    "  d_losses.append(epoch_d_loss/NO_OF_BATCHES)\n",
    "  g_losses.append(epoch_g_loss/NO_OF_BATCHES)\n",
    "\n",
    "  if (epoch+1)%5==0:\n",
    "    generator.save('model/mnist_gan_generator_{}.h5'.format(epoch+1))\n",
    "    save_images(epoch)"
   ]
  },
  {
   "cell_type": "code",
   "execution_count": null,
   "metadata": {
    "colab": {
     "base_uri": "https://localhost:8080/",
     "height": 204
    },
    "colab_type": "code",
    "id": "oFsEAyLRwhju",
    "outputId": "6a7197f3-23dd-41fd-d50c-0047184c7e29"
   },
   "outputs": [],
   "source": [
    "!zip -r /content/images.zip /content/images "
   ]
  },
  {
   "cell_type": "code",
   "execution_count": null,
   "metadata": {
    "colab": {},
    "colab_type": "code",
    "id": "UZnyIZe8zYze"
   },
   "outputs": [],
   "source": [
    "from google.colab import files\n",
    "files.download('images.zip')"
   ]
  },
  {
   "cell_type": "code",
   "execution_count": null,
   "metadata": {
    "colab": {
     "base_uri": "https://localhost:8080/",
     "height": 347
    },
    "colab_type": "code",
    "id": "w5TlOyK8zagg",
    "outputId": "2ef5c417-b98b-4ec8-8dcb-5b86b3de4e3e"
   },
   "outputs": [],
   "source": [
    "plt.plot(d_losses,label=\"Disc\")\n",
    "plt.plot(g_losses,label=\"Gen\")\n",
    "plt.legend()\n",
    "plt.show()\n"
   ]
  },
  {
   "cell_type": "code",
   "execution_count": null,
   "metadata": {
    "colab": {},
    "colab_type": "code",
    "id": "YL2VlJ1ozfcZ"
   },
   "outputs": [],
   "source": [
    "model = Sequential()\n",
    "model.add(Dense(100,input_shape=(25,10)))\n",
    "model.add(LeakyReLU(0.2))\n",
    "model.add(BatchNormalization())\n",
    "model.summary()"
   ]
  },
  {
   "cell_type": "code",
   "execution_count": null,
   "metadata": {},
   "outputs": [],
   "source": [
    "Dense?"
   ]
  },
  {
   "cell_type": "code",
   "execution_count": null,
   "metadata": {},
   "outputs": [],
   "source": []
  }
 ],
 "metadata": {
  "accelerator": "GPU",
  "colab": {
   "name": "MNIST DC GAN.ipynb",
   "provenance": []
  },
  "kernelspec": {
   "display_name": "Python 3",
   "language": "python",
   "name": "python3"
  },
  "language_info": {
   "codemirror_mode": {
    "name": "ipython",
    "version": 3
   },
   "file_extension": ".py",
   "mimetype": "text/x-python",
   "name": "python",
   "nbconvert_exporter": "python",
   "pygments_lexer": "ipython3",
   "version": "3.8.1"
  }
 },
 "nbformat": 4,
 "nbformat_minor": 1
}
